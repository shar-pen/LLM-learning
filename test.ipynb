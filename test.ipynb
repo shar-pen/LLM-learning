{
 "cells": [
  {
   "cell_type": "code",
   "execution_count": 1,
   "metadata": {},
   "outputs": [
    {
     "data": {
      "text/plain": [
       "[1, 3]"
      ]
     },
     "execution_count": 1,
     "metadata": {},
     "output_type": "execute_result"
    }
   ],
   "source": [
    "a = list(range(5))\n",
    "a[1:5:2]"
   ]
  },
  {
   "cell_type": "code",
   "execution_count": 3,
   "metadata": {},
   "outputs": [
    {
     "name": "stdout",
     "output_type": "stream",
     "text": [
      "Hello! How can I assist you today?\n"
     ]
    }
   ],
   "source": [
    "# Please install OpenAI SDK first: `pip3 install openai`\n",
    "\n",
    "from openai import OpenAI\n",
    "\n",
    "client = OpenAI(api_key=\"sk-95e8482c68044bc590c9a27545768754\", base_url=\"https://api.deepseek.com\")\n",
    "\n",
    "response = client.chat.completions.create(\n",
    "    model=\"deepseek-chat\",\n",
    "    messages=[\n",
    "        {\"role\": \"system\", \"content\": \"You are a helpful assistant\"},\n",
    "        {\"role\": \"user\", \"content\": \"Hello\"},\n",
    "    ],\n",
    "    stream=False\n",
    ")\n",
    "\n",
    "print(response.choices[0].message.content)"
   ]
  },
  {
   "cell_type": "code",
   "execution_count": 2,
   "metadata": {},
   "outputs": [
    {
     "name": "stderr",
     "output_type": "stream",
     "text": [
      "INFO:httpx:HTTP Request: POST http://127.0.0.1:11434/v1/embeddings \"HTTP/1.1 200 OK\"\n"
     ]
    },
    {
     "name": "stdout",
     "output_type": "stream",
     "text": [
      "similarity1: 0.688176\n",
      "similarity2: 0.453242\n"
     ]
    }
   ],
   "source": [
    "import numpy as np\n",
    "from kag.common.vectorizer import Vectorizer\n",
    "config = {\n",
    "    \"vectorizer\": \"kag.common.vectorizer.OpenAIVectorizer\",\n",
    "    \"model\": \"bge-m3\",\n",
    "    \"api_key\": \"EMPTY\",\n",
    "    \"base_url\": \"http://127.0.0.1:11434/v1\",\n",
    "    \"vector_dimensions\": 1024,\n",
    "}\n",
    "vectorizer = Vectorizer.from_config(config)\n",
    "inputs = [\"I am George Washington\", \"George Washington\", \"John Doe\"]\n",
    "vecs = vectorizer.vectorize(inputs)\n",
    "vec1 = np.array(vecs[0])\n",
    "vec2 = np.array(vecs[1])\n",
    "vec3 = np.array(vecs[2])\n",
    "similarity1 = vec1.dot(vec2)\n",
    "similarity2 = vec1.dot(vec3)\n",
    "print(\"similarity1: %g\" % similarity1)\n",
    "print(\"similarity2: %g\" % similarity2)"
   ]
  }
 ],
 "metadata": {
  "kernelspec": {
   "display_name": "nlp",
   "language": "python",
   "name": "python3"
  },
  "language_info": {
   "codemirror_mode": {
    "name": "ipython",
    "version": 3
   },
   "file_extension": ".py",
   "mimetype": "text/x-python",
   "name": "python",
   "nbconvert_exporter": "python",
   "pygments_lexer": "ipython3",
   "version": "3.11.0"
  }
 },
 "nbformat": 4,
 "nbformat_minor": 2
}
