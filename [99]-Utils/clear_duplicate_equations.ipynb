{
 "cells": [
  {
   "cell_type": "markdown",
   "metadata": {},
   "source": [
    "# 知乎文章导出的后处理"
   ]
  },
  {
   "cell_type": "code",
   "execution_count": 23,
   "metadata": {},
   "outputs": [
    {
     "name": "stdout",
     "output_type": "stream",
     "text": [
      "修正完成，文件已覆盖：C:\\Users\\JackHarper\\Downloads\\1.md\n"
     ]
    }
   ],
   "source": [
    "import re\n",
    "import os\n",
    "\n",
    "# 设置文件路径\n",
    "folder_path = r\"C:\\Users\\JackHarper\\Downloads\"  # 修改为你的文件夹路径\n",
    "file_name = \"1.md\"  # 修改为你的文件名\n",
    "file_path = os.path.join(folder_path, file_name)\n",
    "\n",
    "# 读取 Markdown 文件\n",
    "with open(file_path, \"r\", encoding=\"utf-8\") as f:\n",
    "    content = f.read()\n",
    "\n",
    "# 处理公式格式\n",
    "def fix_formula(match):\n",
    "    formula = match.group(1)\n",
    "    return f\"${formula}$\"\n",
    "\n",
    "for _ in range(3):\n",
    "\tfixed_content = re.sub(r\"\\$(.*?)\\$\\1\", fix_formula, content)\n",
    "\n",
    "for _ in range(5):\n",
    "\tfixed_content.replace(\"  \\n\", \"\\n\")\n",
    "\tfixed_content.replace(\"  \", \" \")\n",
    "\tfixed_content.replace(\" \\n\", \"\\n\")\n",
    "\tfixed_content.replace(\"\\n\\n\", \"\\n\")\n",
    "\n",
    "# 直接覆盖原文件\n",
    "with open(file_path, \"w\", encoding=\"utf-8\") as f:\n",
    "    f.write(fixed_content)\n",
    "\n",
    "print(f\"修正完成，文件已覆盖：{file_path}\")\n"
   ]
  }
 ],
 "metadata": {
  "kernelspec": {
   "display_name": "nlp",
   "language": "python",
   "name": "python3"
  },
  "language_info": {
   "codemirror_mode": {
    "name": "ipython",
    "version": 3
   },
   "file_extension": ".py",
   "mimetype": "text/x-python",
   "name": "python",
   "nbconvert_exporter": "python",
   "pygments_lexer": "ipython3",
   "version": "3.13.2"
  }
 },
 "nbformat": 4,
 "nbformat_minor": 2
}
