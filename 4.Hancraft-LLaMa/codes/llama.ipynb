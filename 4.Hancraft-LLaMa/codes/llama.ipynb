{
 "cells": [
  {
   "cell_type": "code",
   "execution_count": 11,
   "metadata": {},
   "outputs": [],
   "source": [
    "import torch\n",
    "import torch.nn as nn\n",
    "import torch.nn.functional as F\n",
    "from dataclasses import dataclass\n",
    "\n",
    "\n",
    "@dataclass\n",
    "class ModelConfig:\n",
    "    hidden_size:int=4096\n",
    "    intermediate_size:int=14336\n",
    "    max_position_embeddings:int=8192\n",
    "    num_attention_heads:int=32\n",
    "    num_hidden_layers:int=32\n",
    "    num_key_value_heads:int=8\n",
    "    rms_norm_eps:float=1e-5\n",
    "    vocab_size:int=128000 # this param should be equal to tokenizer.vocab_size\n",
    "\n",
    "config = ModelConfig()"
   ]
  },
  {
   "cell_type": "code",
   "execution_count": 9,
   "metadata": {},
   "outputs": [
    {
     "name": "stdout",
     "output_type": "stream",
     "text": [
      "torch.Size([3, 4096])\n",
      "torch.Size([3, 4096])\n"
     ]
    }
   ],
   "source": [
    "class RMS_Norm(nn.Module):\n",
    "    \"\"\"\n",
    "    RMS归一化,应当在先归一化再过子层\n",
    "    \"\"\"\n",
    "    def __init__(self, config) -> None:\n",
    "        super(RMS_Norm, self).__init__()\n",
    "        \n",
    "        self.refactor = nn.Parameter(torch.ones(config.hidden_size))\n",
    "        self.rms_norm_eps = config.rms_norm_eps\n",
    "        \n",
    "    def __norm(self, x):\n",
    "        # 加了eps确保不会出现除以0的情况，注意这里时rsqrt取根号的倒数\n",
    "        rms = torch.rsqrt(x.pow(2).mean(-1, keepdim=True) + self.rms_norm_eps)\n",
    "        return x * rms\n",
    "    \n",
    "    def forward(self, x):\n",
    "        x = self.__norm(x)\n",
    "        x = x * self.refactor\n",
    "        return x\n",
    "    \n",
    "x = torch.ones((3, config.hidden_size), dtype=torch.float32)\n",
    "print(x.shape)\n",
    "model = RMS_Norm(config)\n",
    "y = model(x)\n",
    "print(y.shape)"
   ]
  },
  {
   "cell_type": "code",
   "execution_count": null,
   "metadata": {},
   "outputs": [],
   "source": []
  },
  {
   "cell_type": "code",
   "execution_count": 12,
   "metadata": {},
   "outputs": [
    {
     "name": "stdout",
     "output_type": "stream",
     "text": [
      "torch.Size([3, 4096])\n",
      "torch.Size([3, 14336])\n"
     ]
    }
   ],
   "source": [
    "class SwiGLU(nn.Module):\n",
    "    \"\"\"这只是门\"\"\"\n",
    "    def __init__(self, config) -> None:\n",
    "        super(SwiGLU, self).__init__()\n",
    "        \n",
    "        # 注意激活函数在两个linear层之间，维度会发生变化，要与第一个linear的参数一致，才能实现element-wise计算\n",
    "        self.W_gate = nn.Linear(config.hidden_size, config.intermediate_size)\n",
    "        \n",
    "    def forward(self, x):\n",
    "        return F.silu(self.W_gate(x))\n",
    "    \n",
    "x = torch.ones((3, config.hidden_size), dtype=torch.float32)\n",
    "print(x.shape)\n",
    "model = SwiGLU(config)\n",
    "y = model(x)\n",
    "print(y.shape)"
   ]
  }
 ],
 "metadata": {
  "kernelspec": {
   "display_name": "nlp",
   "language": "python",
   "name": "python3"
  },
  "language_info": {
   "codemirror_mode": {
    "name": "ipython",
    "version": 3
   },
   "file_extension": ".py",
   "mimetype": "text/x-python",
   "name": "python",
   "nbconvert_exporter": "python",
   "pygments_lexer": "ipython3",
   "version": "3.11.10"
  }
 },
 "nbformat": 4,
 "nbformat_minor": 2
}
