{
 "cells": [
  {
   "cell_type": "code",
   "execution_count": 1,
   "metadata": {},
   "outputs": [],
   "source": [
    "from models.llama import LLaMaConfig, LLaMa"
   ]
  },
  {
   "cell_type": "code",
   "execution_count": 2,
   "metadata": {},
   "outputs": [],
   "source": [
    "config = LLaMaConfig(\n",
    "    embed_dim=1024,\n",
    "    intermediate_size=1024*4,\n",
    "    max_position_embeddings=1024,\n",
    "    num_attention_heads=8,\n",
    "    num_key_value_heads=4,\n",
    "    num_blocks=8,\n",
    "    vocab_size=1000,\n",
    ")\n",
    "model = LLaMa(config)"
   ]
  },
  {
   "cell_type": "code",
   "execution_count": 10,
   "metadata": {},
   "outputs": [
    {
     "data": {
      "text/plain": [
       "'LLaMaConfig(embed_dim=1024, intermediate_size=4096, max_position_embeddings=1024, num_attention_heads=8, num_blocks=8, num_key_value_heads=4, rms_norm_eps=1e-05, vocab_size=1000, prob_dropout=0.1)'"
      ]
     },
     "execution_count": 10,
     "metadata": {},
     "output_type": "execute_result"
    }
   ],
   "source": [
    "config.__str__()"
   ]
  },
  {
   "cell_type": "code",
   "execution_count": null,
   "metadata": {},
   "outputs": [
    {
     "data": {
      "text/plain": [
       "{'model_struture': 'LLaMa(\\n  (tok_emb): Embedding(1000, 1024)\\n  (blocks): ModuleList(\\n    (0-7): 8 x LLaMaBlock(\\n      (norm_pre_attention): RMS_Norm()\\n      (attention): GroupQueryAttention(\\n        (q_proj): Linear(in_features=1024, out_features=1024, bias=True)\\n        (k_proj): Linear(in_features=1024, out_features=512, bias=True)\\n        (v_proj): Linear(in_features=1024, out_features=512, bias=True)\\n        (o_proj): Linear(in_features=1024, out_features=1024, bias=True)\\n        (dropout): Dropout(p=0.1, inplace=False)\\n      )\\n      (norm_pre_ffn): RMS_Norm()\\n      (ffn): FeedForwardNet(\\n        (w_1): Linear(in_features=1024, out_features=4096, bias=True)\\n        (w_2): Linear(in_features=1024, out_features=4096, bias=True)\\n        (w_3): Linear(in_features=4096, out_features=1024, bias=True)\\n      )\\n    )\\n  )\\n  (head): LLaMaHeadNet(\\n    (net): Sequential(\\n      (0): RMS_Norm()\\n      (1): Linear(in_features=1024, out_features=1000, bias=True)\\n      (2): Softmax(dim=-1)\\n    )\\n  )\\n)'}"
      ]
     },
     "execution_count": 7,
     "metadata": {},
     "output_type": "execute_result"
    }
   ],
   "source": [
    "a = {\n",
    "    'model_struture':model.__str__()\n",
    "}\n",
    "pro"
   ]
  },
  {
   "cell_type": "code",
   "execution_count": 9,
   "metadata": {},
   "outputs": [
    {
     "name": "stdout",
     "output_type": "stream",
     "text": [
      "{'model_struture': 'LLaMa(\\n'\n",
      "                   '  (tok_emb): Embedding(1000, 1024)\\n'\n",
      "                   '  (blocks): ModuleList(\\n'\n",
      "                   '    (0-7): 8 x LLaMaBlock(\\n'\n",
      "                   '      (norm_pre_attention): RMS_Norm()\\n'\n",
      "                   '      (attention): GroupQueryAttention(\\n'\n",
      "                   '        (q_proj): Linear(in_features=1024, out_features=1024, bias=True)\\n'\n",
      "                   '        (k_proj): Linear(in_features=1024, out_features=512, bias=True)\\n'\n",
      "                   '        (v_proj): Linear(in_features=1024, out_features=512, bias=True)\\n'\n",
      "                   '        (o_proj): Linear(in_features=1024, out_features=1024, bias=True)\\n'\n",
      "                   '        (dropout): Dropout(p=0.1, inplace=False)\\n'\n",
      "                   '      )\\n'\n",
      "                   '      (norm_pre_ffn): RMS_Norm()\\n'\n",
      "                   '      (ffn): FeedForwardNet(\\n'\n",
      "                   '        (w_1): Linear(in_features=1024, out_features=4096, bias=True)\\n'\n",
      "                   '        (w_2): Linear(in_features=1024, out_features=4096, bias=True)\\n'\n",
      "                   '        (w_3): Linear(in_features=4096, out_features=1024, bias=True)\\n'\n",
      "                   '      )\\n'\n",
      "                   '    )\\n'\n",
      "                   '  )\\n'\n",
      "                   '  (head): LLaMaHeadNet(\\n'\n",
      "                   '    (net): Sequential(\\n'\n",
      "                   '      (0): RMS_Norm()\\n'\n",
      "                   '      (1): Linear(in_features=1024, out_features=1000, bias=True)\\n'\n",
      "                   '      (2): Softmax(dim=-1)\\n'\n",
      "                   '    )\\n'\n",
      "                   '  )\\n'\n",
      "                   ')'}\n"
     ]
    }
   ],
   "source": [
    "from pprint import pprint\n",
    "\n",
    "pprint(a, width=100)"
   ]
  }
 ],
 "metadata": {
  "kernelspec": {
   "display_name": "nlp",
   "language": "python",
   "name": "python3"
  },
  "language_info": {
   "codemirror_mode": {
    "name": "ipython",
    "version": 3
   },
   "file_extension": ".py",
   "mimetype": "text/x-python",
   "name": "python",
   "nbconvert_exporter": "python",
   "pygments_lexer": "ipython3",
   "version": "3.11.10"
  }
 },
 "nbformat": 4,
 "nbformat_minor": 2
}
