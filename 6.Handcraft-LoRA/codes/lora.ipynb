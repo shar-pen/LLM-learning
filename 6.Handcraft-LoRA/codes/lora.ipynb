{
 "cells": [
  {
   "cell_type": "markdown",
   "metadata": {},
   "source": [
    "#### Qwen2-1.5b推理"
   ]
  },
  {
   "cell_type": "code",
   "execution_count": 38,
   "metadata": {},
   "outputs": [],
   "source": [
    "import os\n",
    "os.environ['CUDA_VISIBLE_DEVICES'] = '6'"
   ]
  },
  {
   "cell_type": "code",
   "execution_count": 39,
   "metadata": {},
   "outputs": [
    {
     "name": "stderr",
     "output_type": "stream",
     "text": [
      "huggingface/tokenizers: The current process just got forked, after parallelism has already been used. Disabling parallelism to avoid deadlocks...\n",
      "To disable this warning, you can either:\n",
      "\t- Avoid using `tokenizers` before the fork if possible\n",
      "\t- Explicitly set the environment variable TOKENIZERS_PARALLELISM=(true | false)\n"
     ]
    },
    {
     "name": "stdout",
     "output_type": "stream",
     "text": [
      "1. 运动健将们在奥运会上展示了自己的技能和毅力，为观众带来了一场场精彩绝伦的比赛。\n",
      "2. 在北京奥运会上，中国选手的表现非常出色，夺得了多个项目的金牌，展现了国家的体育实力和文化自信。\n",
      "3. 奥运会不仅是一次体育竞技的盛会，也是一个文化交流的平台。各国运动员、教练员、官员等齐聚一堂，增进友谊，促进了不同文化的交流与理解。\n",
      "\n",
      "请注意：以上内容是基于一般情况下的描述，并不代表任何特定事件或个人经历。如果需要更详细的信息，请提供具体问题或请求。\n"
     ]
    }
   ],
   "source": [
    "from transformers import AutoModelForCausalLM, AutoTokenizer\n",
<<<<<<< HEAD
    "\n",
=======
>>>>>>> lora
    "model_path = '/data01/tqbian/modelPATH/Qwen/Qwen2___5-1___5B-Instruct'\n",
    "model = AutoModelForCausalLM.from_pretrained(\n",
    "    model_path,\n",
    "    torch_dtype=\"auto\",\n",
    "    device_map=\"auto\"\n",
    ")\n",
    "tokenizer = AutoTokenizer.from_pretrained(model_path)\n",
    "prompt = \"北京奥运会\"\n",
    "model_inputs = tokenizer(f'user: {prompt}\\n'.strip() + \"\\n\\nAssistant: \", return_tensors=\"pt\").to(model.device)\n",
    "inputs_len = len(model_inputs['input_ids'][0])\n",
    "generated_ids = model.generate(**model_inputs, max_new_tokens=5096)\n",
    "response = tokenizer.decode(generated_ids[0][inputs_len:], skip_special_tokens=True)\n",
    "print(response)"
   ]
  },
  {
   "cell_type": "markdown",
   "metadata": {},
   "source": [
    "### 数据集加载"
   ]
  },
  {
   "cell_type": "code",
   "execution_count": 18,
   "metadata": {},
   "outputs": [
    {
     "name": "stdout",
     "output_type": "stream",
     "text": [
      "DatasetDict({\n",
      "    train: Dataset({\n",
      "        features: ['instruction', 'input', 'output'],\n",
      "        num_rows: 48818\n",
      "    })\n",
      "})\n",
      "{'train': ['instruction', 'input', 'output']}\n",
      "{'instruction': '三原色是什么？', 'input': '', 'output': '三原色通常指的是红色、绿色和蓝色（RGB）。它们是通过加色混合原理创建色彩的三种基础颜色。在以发光为基础的显示设备中（如电视、计算机显示器、智能手机和平板电脑显示屏）, 三原色可混合产生大量色彩。其中红色和绿色可以混合生成黄色，红色和蓝色可以混合生成品红色，蓝色和绿色可以混合生成青色。当红色、绿色和蓝色按相等比例混合时，可以产生白色或灰色。\\n\\n此外，在印刷和绘画中，三原色指的是以颜料为基础的红、黄和蓝颜色（RYB）。这三种颜色用以通过减色混合原理来创建色彩。不过，三原色的具体定义并不唯一，不同的颜色系统可能会采用不同的三原色。'}\n"
     ]
    }
   ],
   "source": [
    "from datasets import load_dataset\n",
    "ds = load_dataset('json', data_files=\"/data01/tqbian/src/learning/LLM_Toturials/LoRa_Qwen2.5/alapca_data_zh/alpaca_gpt4_data_zh.json\")\n",
    "print(ds)\n",
    "print(ds.column_names)\n",
    "print(ds['train'][1])"
   ]
  },
  {
   "cell_type": "code",
   "execution_count": 19,
   "metadata": {},
   "outputs": [],
   "source": [
    "def process_func(example):\n",
    "    MAX_LENGTH = 256\n",
    "    input_ids, attention_mask, labels = [], [], []\n",
    "    instruction = tokenizer(\"\\n\".join([\"Human: \" + example[\"instruction\"], example[\"input\"]]).strip() + \"\\n\\nAssistant: \")\n",
    "    response = tokenizer(example[\"output\"] + tokenizer.eos_token)\n",
    "    input_ids = instruction[\"input_ids\"] + response[\"input_ids\"]\n",
    "    attention_mask = instruction[\"attention_mask\"] + response[\"attention_mask\"]\n",
    "    labels = [-100] * len(instruction[\"input_ids\"]) + response[\"input_ids\"]\n",
    "    if len(input_ids) > MAX_LENGTH:\n",
    "        input_ids = input_ids[:MAX_LENGTH]\n",
    "        attention_mask = attention_mask[:MAX_LENGTH]\n",
    "        labels = labels[:MAX_LENGTH]\n",
    "    return {\n",
    "        \"input_ids\": input_ids,\n",
    "        \"attention_mask\": attention_mask,\n",
    "        \"labels\": labels\n",
    "    }"
   ]
  },
  {
   "cell_type": "markdown",
   "metadata": {},
   "source": [
    "`instruction`是将`\"Human: {instruction}\"`和`\"input\"`拼接起来，然后传入`tokenizer`进行token。  \n",
    "`response`是将`output`拼接上`eos_token`（结束符），然后token。  \n",
    "`labels`设置为输入部分的标记ID为`-100`（用于计算损失时不考虑这些位置），而输出部分是实际的标记ID。  "
   ]
  },
  {
   "cell_type": "markdown",
   "metadata": {},
   "source": [
    "### 制作数据集"
   ]
  },
  {
   "cell_type": "code",
   "execution_count": 20,
   "metadata": {},
   "outputs": [
    {
     "data": {
      "text/plain": [
       "Dataset({\n",
       "    features: ['instruction', 'input', 'output', 'input_ids', 'attention_mask', 'labels'],\n",
       "    num_rows: 48818\n",
       "})"
      ]
     },
     "execution_count": 20,
     "metadata": {},
     "output_type": "execute_result"
    }
   ],
   "source": [
    "tokenized_ds = ds['train'].map(process_func)\n",
    "tokenized_ds"
   ]
  },
  {
   "cell_type": "code",
   "execution_count": 21,
   "metadata": {},
   "outputs": [
    {
     "data": {
      "text/plain": [
       "'Human: 三原色是什么？\\n\\nAssistant: 三原色通常指的是红色、绿色和蓝色（RGB）。它们是通过加色混合原理创建色彩的三种基础颜色。在以发光为基础的显示设备中（如电视、计算机显示器、智能手机和平板电脑显示屏）, 三原色可混合产生大量色彩。其中红色和绿色可以混合生成黄色，红色和蓝色可以混合生成品红色，蓝色和绿色可以混合生成青色。当红色、绿色和蓝色按相等比例混合时，可以产生白色或灰色。\\n\\n此外，在印刷和绘画中，三原色指的是以颜料为基础的红、黄和蓝颜色（RYB）。这三种颜色用以通过减色混合原理来创建色彩。不过，三原色的具体定义并不唯一，不同的颜色系统可能会采用不同的三原色。<|im_end|>'"
      ]
     },
     "execution_count": 21,
     "metadata": {},
     "output_type": "execute_result"
    }
   ],
   "source": [
    "tokenizer.decode(tokenized_ds[1][\"input_ids\"])"
   ]
  },
  {
   "cell_type": "markdown",
   "metadata": {},
   "source": [
    "### 打印初始的模型"
   ]
  },
  {
   "cell_type": "code",
   "execution_count": 40,
   "metadata": {},
   "outputs": [
    {
     "data": {
      "text/plain": [
       "Qwen2ForCausalLM(\n",
       "  (model): Qwen2Model(\n",
       "    (embed_tokens): Embedding(151936, 1536)\n",
       "    (layers): ModuleList(\n",
       "      (0-27): 28 x Qwen2DecoderLayer(\n",
       "        (self_attn): Qwen2SdpaAttention(\n",
       "          (q_proj): Linear(in_features=1536, out_features=1536, bias=True)\n",
       "          (k_proj): Linear(in_features=1536, out_features=256, bias=True)\n",
       "          (v_proj): Linear(in_features=1536, out_features=256, bias=True)\n",
       "          (o_proj): Linear(in_features=1536, out_features=1536, bias=False)\n",
       "          (rotary_emb): Qwen2RotaryEmbedding()\n",
       "        )\n",
       "        (mlp): Qwen2MLP(\n",
       "          (gate_proj): Linear(in_features=1536, out_features=8960, bias=False)\n",
       "          (up_proj): Linear(in_features=1536, out_features=8960, bias=False)\n",
       "          (down_proj): Linear(in_features=8960, out_features=1536, bias=False)\n",
       "          (act_fn): SiLU()\n",
       "        )\n",
       "        (input_layernorm): Qwen2RMSNorm((1536,), eps=1e-06)\n",
       "        (post_attention_layernorm): Qwen2RMSNorm((1536,), eps=1e-06)\n",
       "      )\n",
       "    )\n",
       "    (norm): Qwen2RMSNorm((1536,), eps=1e-06)\n",
       "  )\n",
       "  (lm_head): Linear(in_features=1536, out_features=151936, bias=False)\n",
       ")"
      ]
     },
     "execution_count": 40,
     "metadata": {},
     "output_type": "execute_result"
    }
   ],
   "source": [
    "model"
   ]
  },
  {
   "cell_type": "markdown",
   "metadata": {},
   "source": [
    "### lora参数设置"
   ]
  },
  {
   "cell_type": "code",
   "execution_count": 41,
   "metadata": {},
   "outputs": [
    {
     "data": {
      "text/plain": [
       "LoraConfig(peft_type=<PeftType.LORA: 'LORA'>, auto_mapping=None, base_model_name_or_path=None, revision=None, task_type=<TaskType.CAUSAL_LM: 'CAUSAL_LM'>, inference_mode=False, r=16, target_modules={'v_proj', 'q_proj'}, lora_alpha=16, lora_dropout=0.0, fan_in_fan_out=False, bias='none', use_rslora=False, modules_to_save=['lm_head'], init_lora_weights=True, layers_to_transform=None, layers_pattern=None, rank_pattern={}, alpha_pattern={}, megatron_config=None, megatron_core='megatron.core', loftq_config={}, use_dora=False, layer_replication=None)"
      ]
     },
     "execution_count": 41,
     "metadata": {},
     "output_type": "execute_result"
    }
   ],
   "source": [
    "from peft import LoraConfig, TaskType, get_peft_model\n",
    "config = LoraConfig(task_type=TaskType.CAUSAL_LM, target_modules=['q_proj', 'v_proj'], modules_to_save=['lm_head'], r=16, lora_alpha=16)\n",
    "config"
   ]
  },
  {
   "cell_type": "code",
   "execution_count": 42,
   "metadata": {},
   "outputs": [
    {
     "name": "stdout",
     "output_type": "stream",
     "text": [
      "PeftModelForCausalLM(\n",
      "  (base_model): LoraModel(\n",
      "    (model): Qwen2ForCausalLM(\n",
      "      (model): Qwen2Model(\n",
      "        (embed_tokens): Embedding(151936, 1536)\n",
      "        (layers): ModuleList(\n",
      "          (0-27): 28 x Qwen2DecoderLayer(\n",
      "            (self_attn): Qwen2SdpaAttention(\n",
      "              (q_proj): lora.Linear(\n",
      "                (base_layer): Linear(in_features=1536, out_features=1536, bias=True)\n",
      "                (lora_dropout): ModuleDict(\n",
      "                  (default): Identity()\n",
      "                )\n",
      "                (lora_A): ModuleDict(\n",
      "                  (default): Linear(in_features=1536, out_features=16, bias=False)\n",
      "                )\n",
      "                (lora_B): ModuleDict(\n",
      "                  (default): Linear(in_features=16, out_features=1536, bias=False)\n",
      "                )\n",
      "                (lora_embedding_A): ParameterDict()\n",
      "                (lora_embedding_B): ParameterDict()\n",
      "              )\n",
      "              (k_proj): Linear(in_features=1536, out_features=256, bias=True)\n",
      "              (v_proj): lora.Linear(\n",
      "                (base_layer): Linear(in_features=1536, out_features=256, bias=True)\n",
      "                (lora_dropout): ModuleDict(\n",
      "                  (default): Identity()\n",
      "                )\n",
      "                (lora_A): ModuleDict(\n",
      "                  (default): Linear(in_features=1536, out_features=16, bias=False)\n",
      "                )\n",
      "                (lora_B): ModuleDict(\n",
      "                  (default): Linear(in_features=16, out_features=256, bias=False)\n",
      "                )\n",
      "                (lora_embedding_A): ParameterDict()\n",
      "                (lora_embedding_B): ParameterDict()\n",
      "              )\n",
      "              (o_proj): Linear(in_features=1536, out_features=1536, bias=False)\n",
      "              (rotary_emb): Qwen2RotaryEmbedding()\n",
      "            )\n",
      "            (mlp): Qwen2MLP(\n",
      "              (gate_proj): Linear(in_features=1536, out_features=8960, bias=False)\n",
      "              (up_proj): Linear(in_features=1536, out_features=8960, bias=False)\n",
      "              (down_proj): Linear(in_features=8960, out_features=1536, bias=False)\n",
      "              (act_fn): SiLU()\n",
      "            )\n",
      "            (input_layernorm): Qwen2RMSNorm((1536,), eps=1e-06)\n",
      "            (post_attention_layernorm): Qwen2RMSNorm((1536,), eps=1e-06)\n",
      "          )\n",
      "        )\n",
      "        (norm): Qwen2RMSNorm((1536,), eps=1e-06)\n",
      "      )\n",
      "      (lm_head): ModulesToSaveWrapper(\n",
      "        (original_module): Linear(in_features=1536, out_features=151936, bias=False)\n",
      "        (modules_to_save): ModuleDict(\n",
      "          (default): Linear(in_features=1536, out_features=151936, bias=False)\n",
      "        )\n",
      "      )\n",
      "    )\n",
      "  )\n",
      ")\n"
     ]
    }
   ],
   "source": [
    "lora_model = get_peft_model(model, config)  \n",
    "print(lora_model)"
   ]
  },
  {
   "cell_type": "code",
   "execution_count": 43,
   "metadata": {},
   "outputs": [
    {
     "name": "stdout",
     "output_type": "stream",
     "text": [
      "trainable params: 235,552,768 || all params: 1,779,267,072 || trainable%: 13.2388\n"
     ]
    }
   ],
   "source": [
    "lora_model.print_trainable_parameters()  "
   ]
  },
  {
   "cell_type": "markdown",
   "metadata": {},
   "source": [
    "### lora模型训练"
   ]
  },
  {
   "cell_type": "code",
   "execution_count": 46,
   "metadata": {},
   "outputs": [
    {
     "name": "stderr",
     "output_type": "stream",
     "text": [
      "huggingface/tokenizers: The current process just got forked, after parallelism has already been used. Disabling parallelism to avoid deadlocks...\n",
      "To disable this warning, you can either:\n",
      "\t- Avoid using `tokenizers` before the fork if possible\n",
      "\t- Explicitly set the environment variable TOKENIZERS_PARALLELISM=(true | false)\n",
      "Detected kernel version 3.10.0, which is below the recommended minimum of 5.5.0; this can cause the process to hang. It is recommended to upgrade the kernel to the minimum version or higher.\n"
     ]
    }
   ],
   "source": [
    "from transformers import DataCollatorForSeq2Seq, TrainingArguments, Trainer\n",
    "args = TrainingArguments(\n",
    "    output_dir=\"/data01/tqbian/src/learning/LLM_Toturials/LoRa_Qwen2.5/output_model/\",  \n",
    "    per_device_train_batch_size=16,  \n",
    "    gradient_accumulation_steps=8,  \n",
    "    logging_steps=50,  \n",
    "    num_train_epochs=3 \n",
    "    \n",
    ")\n",
    "trainer = Trainer(\n",
    "    model=lora_model,\n",
    "    args=args,\n",
    "    tokenizer=tokenizer,\n",
    "    train_dataset=tokenized_ds,\n",
    "    data_collator=DataCollatorForSeq2Seq(tokenizer=tokenizer, padding=True),\n",
    ")  "
   ]
  },
  {
   "cell_type": "code",
   "execution_count": 47,
   "metadata": {},
   "outputs": [
    {
     "data": {
      "text/html": [
       "\n",
       "    <div>\n",
       "      \n",
       "      <progress value='1143' max='1143' style='width:300px; height:20px; vertical-align: middle;'></progress>\n",
       "      [1143/1143 1:29:36, Epoch 2/3]\n",
       "    </div>\n",
       "    <table border=\"1\" class=\"dataframe\">\n",
       "  <thead>\n",
       " <tr style=\"text-align: left;\">\n",
       "      <th>Step</th>\n",
       "      <th>Training Loss</th>\n",
       "    </tr>\n",
       "  </thead>\n",
       "  <tbody>\n",
       "    <tr>\n",
       "      <td>50</td>\n",
       "      <td>1.700900</td>\n",
       "    </tr>\n",
       "    <tr>\n",
       "      <td>100</td>\n",
       "      <td>1.585500</td>\n",
       "    </tr>\n",
       "    <tr>\n",
       "      <td>150</td>\n",
       "      <td>1.529500</td>\n",
       "    </tr>\n",
       "    <tr>\n",
       "      <td>200</td>\n",
       "      <td>1.509100</td>\n",
       "    </tr>\n",
       "    <tr>\n",
       "      <td>250</td>\n",
       "      <td>1.518200</td>\n",
       "    </tr>\n",
       "    <tr>\n",
       "      <td>300</td>\n",
       "      <td>1.511000</td>\n",
       "    </tr>\n",
       "    <tr>\n",
       "      <td>350</td>\n",
       "      <td>1.509300</td>\n",
       "    </tr>\n",
       "    <tr>\n",
       "      <td>400</td>\n",
       "      <td>1.497100</td>\n",
       "    </tr>\n",
       "    <tr>\n",
       "      <td>450</td>\n",
       "      <td>1.494000</td>\n",
       "    </tr>\n",
       "    <tr>\n",
       "      <td>500</td>\n",
       "      <td>1.489400</td>\n",
       "    </tr>\n",
       "    <tr>\n",
       "      <td>550</td>\n",
       "      <td>1.489900</td>\n",
       "    </tr>\n",
       "    <tr>\n",
       "      <td>600</td>\n",
       "      <td>1.484600</td>\n",
       "    </tr>\n",
       "    <tr>\n",
       "      <td>650</td>\n",
       "      <td>1.497900</td>\n",
       "    </tr>\n",
       "    <tr>\n",
       "      <td>700</td>\n",
       "      <td>1.492400</td>\n",
       "    </tr>\n",
       "    <tr>\n",
       "      <td>750</td>\n",
       "      <td>1.493000</td>\n",
       "    </tr>\n",
       "    <tr>\n",
       "      <td>800</td>\n",
       "      <td>1.486600</td>\n",
       "    </tr>\n",
       "    <tr>\n",
       "      <td>850</td>\n",
       "      <td>1.488100</td>\n",
       "    </tr>\n",
       "    <tr>\n",
       "      <td>900</td>\n",
       "      <td>1.480500</td>\n",
       "    </tr>\n",
       "    <tr>\n",
       "      <td>950</td>\n",
       "      <td>1.473100</td>\n",
       "    </tr>\n",
       "    <tr>\n",
       "      <td>1000</td>\n",
       "      <td>1.489200</td>\n",
       "    </tr>\n",
       "    <tr>\n",
       "      <td>1050</td>\n",
       "      <td>1.487100</td>\n",
       "    </tr>\n",
       "    <tr>\n",
       "      <td>1100</td>\n",
       "      <td>1.490000</td>\n",
       "    </tr>\n",
       "  </tbody>\n",
       "</table><p>"
      ],
      "text/plain": [
       "<IPython.core.display.HTML object>"
      ]
     },
     "metadata": {},
     "output_type": "display_data"
    },
    {
     "name": "stderr",
     "output_type": "stream",
     "text": [
      "/data01/tqbian/miniconda3/envs/chatchat/lib/python3.9/site-packages/peft/utils/save_and_load.py:195: UserWarning: Could not find a config file in /data01/tqbian/modelPATH/Qwen/Qwen2___5-1___5B-Instruct - will assume that the vocabulary was not modified.\n",
      "  warnings.warn(\n",
      "/data01/tqbian/miniconda3/envs/chatchat/lib/python3.9/site-packages/peft/utils/save_and_load.py:195: UserWarning: Could not find a config file in /data01/tqbian/modelPATH/Qwen/Qwen2___5-1___5B-Instruct - will assume that the vocabulary was not modified.\n",
      "  warnings.warn(\n",
      "/data01/tqbian/miniconda3/envs/chatchat/lib/python3.9/site-packages/peft/utils/save_and_load.py:195: UserWarning: Could not find a config file in /data01/tqbian/modelPATH/Qwen/Qwen2___5-1___5B-Instruct - will assume that the vocabulary was not modified.\n",
      "  warnings.warn(\n"
     ]
    },
    {
     "data": {
      "text/plain": [
       "TrainOutput(global_step=1143, training_loss=1.5079461679266715, metrics={'train_runtime': 5381.0743, 'train_samples_per_second': 27.216, 'train_steps_per_second': 0.212, 'total_flos': 3.461575577971507e+17, 'train_loss': 1.5079461679266715, 'epoch': 2.9960681520314547})"
      ]
     },
     "execution_count": 47,
     "metadata": {},
     "output_type": "execute_result"
    }
   ],
   "source": [
    "trainer.train()  "
   ]
  },
  {
   "cell_type": "code",
   "execution_count": 48,
   "metadata": {},
   "outputs": [
    {
     "data": {
      "text/plain": [
       "[<matplotlib.lines.Line2D at 0x7fedceaa3e20>]"
      ]
     },
     "execution_count": 48,
     "metadata": {},
     "output_type": "execute_result"
    },
    {
     "data": {
      "image/png": "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",
      "text/plain": [
       "<Figure size 640x480 with 1 Axes>"
      ]
     },
     "metadata": {},
     "output_type": "display_data"
    }
   ],
   "source": [
    "import matplotlib.pyplot as plt\n",
    "log_history = trainer.state.log_history\n",
    "losses = [entry[\"loss\"] for entry in log_history if \"loss\" in entry]\n",
    "plt.plot(losses)"
   ]
  },
  {
   "cell_type": "markdown",
   "metadata": {},
   "source": [
    "### 加载lora训练好的模型"
   ]
  },
  {
   "cell_type": "code",
   "execution_count": 49,
   "metadata": {},
   "outputs": [],
   "source": [
    "from peft import PeftModel"
   ]
  },
  {
   "cell_type": "code",
   "execution_count": 51,
   "metadata": {},
   "outputs": [
    {
     "data": {
      "text/plain": [
       "PeftModelForCausalLM(\n",
       "  (base_model): LoraModel(\n",
       "    (model): Qwen2ForCausalLM(\n",
       "      (model): Qwen2Model(\n",
       "        (embed_tokens): Embedding(151936, 1536)\n",
       "        (layers): ModuleList(\n",
       "          (0-27): 28 x Qwen2DecoderLayer(\n",
       "            (self_attn): Qwen2SdpaAttention(\n",
       "              (q_proj): lora.Linear(\n",
       "                (base_layer): Linear(in_features=1536, out_features=1536, bias=True)\n",
       "                (lora_dropout): ModuleDict(\n",
       "                  (default): Identity()\n",
       "                )\n",
       "                (lora_A): ModuleDict(\n",
       "                  (default): Linear(in_features=1536, out_features=16, bias=False)\n",
       "                )\n",
       "                (lora_B): ModuleDict(\n",
       "                  (default): Linear(in_features=16, out_features=1536, bias=False)\n",
       "                )\n",
       "                (lora_embedding_A): ParameterDict()\n",
       "                (lora_embedding_B): ParameterDict()\n",
       "              )\n",
       "              (k_proj): Linear(in_features=1536, out_features=256, bias=True)\n",
       "              (v_proj): lora.Linear(\n",
       "                (base_layer): Linear(in_features=1536, out_features=256, bias=True)\n",
       "                (lora_dropout): ModuleDict(\n",
       "                  (default): Identity()\n",
       "                )\n",
       "                (lora_A): ModuleDict(\n",
       "                  (default): Linear(in_features=1536, out_features=16, bias=False)\n",
       "                )\n",
       "                (lora_B): ModuleDict(\n",
       "                  (default): Linear(in_features=16, out_features=256, bias=False)\n",
       "                )\n",
       "                (lora_embedding_A): ParameterDict()\n",
       "                (lora_embedding_B): ParameterDict()\n",
       "              )\n",
       "              (o_proj): Linear(in_features=1536, out_features=1536, bias=False)\n",
       "              (rotary_emb): Qwen2RotaryEmbedding()\n",
       "            )\n",
       "            (mlp): Qwen2MLP(\n",
       "              (gate_proj): Linear(in_features=1536, out_features=8960, bias=False)\n",
       "              (up_proj): Linear(in_features=1536, out_features=8960, bias=False)\n",
       "              (down_proj): Linear(in_features=8960, out_features=1536, bias=False)\n",
       "              (act_fn): SiLU()\n",
       "            )\n",
       "            (input_layernorm): Qwen2RMSNorm((1536,), eps=1e-06)\n",
       "            (post_attention_layernorm): Qwen2RMSNorm((1536,), eps=1e-06)\n",
       "          )\n",
       "        )\n",
       "        (norm): Qwen2RMSNorm((1536,), eps=1e-06)\n",
       "      )\n",
       "      (lm_head): ModulesToSaveWrapper(\n",
       "        (original_module): Linear(in_features=1536, out_features=151936, bias=False)\n",
       "        (modules_to_save): ModuleDict(\n",
       "          (default): Linear(in_features=1536, out_features=151936, bias=False)\n",
       "        )\n",
       "      )\n",
       "    )\n",
       "  )\n",
       ")"
      ]
     },
     "execution_count": 51,
     "metadata": {},
     "output_type": "execute_result"
    }
   ],
   "source": [
    "lora_train_model = PeftModel.from_pretrained(model, model_id=\"/data01/tqbian/src/learning/LLM_Toturials/LoRa_Qwen2.5/output_model/checkpoint-1143\")\n",
    "lora_train_model"
   ]
  },
  {
   "cell_type": "markdown",
   "metadata": {},
   "source": [
    "#### 推理训练好的模型"
   ]
  },
  {
   "cell_type": "code",
   "execution_count": 52,
   "metadata": {},
   "outputs": [
    {
     "name": "stdout",
     "output_type": "stream",
     "text": [
      "好的，我可以帮您查询北京奥运会的相关信息。北京奥运会是2008年在中华人民共和国首都北京举办的一次国际性大型体育盛会。它共设了28个大项和302个小项，共有来自世界五大洲的105个国家和地区参加比赛。\n",
      "\n",
      "如果您需要更详细的信息，例如赛事日程、运动员名单、奖牌榜等，请告诉我您的具体需求，我会尽力为您提供帮助。\n"
     ]
    }
   ],
   "source": [
    "prompt = \"北京奥运会\"\n",
    "model_inputs = tokenizer(f'user: {prompt}\\n'.strip() + \"\\n\\nAssistant: \", return_tensors=\"pt\").to(lora_train_model.device)\n",
    "inputs_len = len(model_inputs['input_ids'][0])\n",
    "generated_ids = lora_train_model.generate(**model_inputs, max_new_tokens=5096)\n",
    "response = tokenizer.decode(generated_ids[0][inputs_len:], skip_special_tokens=True)\n",
    "print(response)"
   ]
  },
  {
   "cell_type": "markdown",
   "metadata": {},
   "source": [
    "#### 模型合并"
   ]
  },
  {
   "cell_type": "code",
   "execution_count": 53,
   "metadata": {},
   "outputs": [
    {
     "data": {
      "text/plain": [
       "Qwen2ForCausalLM(\n",
       "  (model): Qwen2Model(\n",
       "    (embed_tokens): Embedding(151936, 1536)\n",
       "    (layers): ModuleList(\n",
       "      (0-27): 28 x Qwen2DecoderLayer(\n",
       "        (self_attn): Qwen2SdpaAttention(\n",
       "          (q_proj): Linear(in_features=1536, out_features=1536, bias=True)\n",
       "          (k_proj): Linear(in_features=1536, out_features=256, bias=True)\n",
       "          (v_proj): Linear(in_features=1536, out_features=256, bias=True)\n",
       "          (o_proj): Linear(in_features=1536, out_features=1536, bias=False)\n",
       "          (rotary_emb): Qwen2RotaryEmbedding()\n",
       "        )\n",
       "        (mlp): Qwen2MLP(\n",
       "          (gate_proj): Linear(in_features=1536, out_features=8960, bias=False)\n",
       "          (up_proj): Linear(in_features=1536, out_features=8960, bias=False)\n",
       "          (down_proj): Linear(in_features=8960, out_features=1536, bias=False)\n",
       "          (act_fn): SiLU()\n",
       "        )\n",
       "        (input_layernorm): Qwen2RMSNorm((1536,), eps=1e-06)\n",
       "        (post_attention_layernorm): Qwen2RMSNorm((1536,), eps=1e-06)\n",
       "      )\n",
       "    )\n",
       "    (norm): Qwen2RMSNorm((1536,), eps=1e-06)\n",
       "  )\n",
       "  (lm_head): Linear(in_features=1536, out_features=151936, bias=False)\n",
       ")"
      ]
     },
     "execution_count": 53,
     "metadata": {},
     "output_type": "execute_result"
    }
   ],
   "source": [
    "merge_model = lora_train_model.merge_and_unload()\n",
    "merge_model"
   ]
  },
  {
   "cell_type": "markdown",
   "metadata": {},
   "source": [
    "#### 保存模型"
   ]
  },
  {
   "cell_type": "code",
   "execution_count": 54,
   "metadata": {},
   "outputs": [],
   "source": [
    "merge_model.save_pretrained(\"/data01/tqbian/src/learning/LLM_Toturials/LoRa_Qwen2.5/output_model/merge_model\")"
   ]
  },
  {
   "cell_type": "markdown",
   "metadata": {},
   "source": [
    "#### 推理合并后的模型"
   ]
  },
  {
   "cell_type": "code",
   "execution_count": 55,
   "metadata": {},
   "outputs": [
    {
     "name": "stdout",
     "output_type": "stream",
     "text": [
      "北京奥运会，又名2008年夏季奥林匹克运动会，于2008年8月8日至24日在中华人民共和国首都北京市举行。这是中国首次举办夏季奥运会，也是继1952年后时隔13.5年再次举办的夏季奥运会。共有来自世界各地的近千万观众观看了比赛，创造了历史纪录。\n",
      "\n",
      "此次奥运会共设36个大项、337个小项，吸引了约110个国家和地区的运动员参赛，其中中国代表团获得51枚金牌、21枚银牌、28枚铜牌，位列金牌榜第一位。此外，北京奥运会还见证了中国在科技、环保等领域取得的巨大成就，并为世界留下了宝贵的历史文化遗产。总之，北京奥运会是一次成功的体育盛会，也对中国产生了深远的影响。\n"
     ]
    }
   ],
   "source": [
    "prompt = \"北京奥运会\"\n",
    "model_inputs = tokenizer(f'user: {prompt}\\n'.strip() + \"\\n\\nAssistant: \", return_tensors=\"pt\").to(merge_model.device)\n",
    "inputs_len = len(model_inputs['input_ids'][0])\n",
    "generated_ids = merge_model.generate(**model_inputs, max_new_tokens=5096)\n",
    "response = tokenizer.decode(generated_ids[0][inputs_len:], skip_special_tokens=True)\n",
    "print(response)"
   ]
  },
  {
   "cell_type": "code",
   "execution_count": null,
   "metadata": {},
   "outputs": [],
   "source": []
  }
 ],
 "metadata": {
  "kernelspec": {
   "display_name": "chatchat",
   "language": "python",
   "name": "python3"
  },
  "language_info": {
   "codemirror_mode": {
    "name": "ipython",
    "version": 3
   },
   "file_extension": ".py",
   "mimetype": "text/x-python",
   "name": "python",
   "nbconvert_exporter": "python",
   "pygments_lexer": "ipython3",
   "version": "3.9.19"
  },
  "orig_nbformat": 4
 },
 "nbformat": 4,
 "nbformat_minor": 2
}
