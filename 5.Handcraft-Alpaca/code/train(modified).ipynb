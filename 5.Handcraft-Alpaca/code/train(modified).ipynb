{
 "cells": [
  {
   "cell_type": "markdown",
   "metadata": {},
   "source": [
    "# README\n",
    "\n",
    "改进Alpaca源码:\n",
    "\n",
    "- 原始Alpaca是自己读取并预处理数据，这里我改为dataset读取并用map函数批量预处理。\n",
    "- 原始Alpaca训练7B模型需要四张A100卡，不算数据单独模型训练也需要100GB以上的显存，这里我改为bf16训练，可用一张A800(80G)训练。更改的地方包括 \n",
    "    1. 模型加载，加载时设置torch_dtype\n",
    "    2. 训练参数，增加bf16=True"
   ]
  },
  {
   "cell_type": "code",
   "execution_count": 1,
   "metadata": {},
   "outputs": [],
   "source": [
    "import copy\n",
    "import logging\n",
    "import json\n",
    "import io\n",
    "import os\n",
    "from pprint import pprint\n",
    "from dataclasses import dataclass, field\n",
    "from typing import Dict, Optional, Sequence\n",
    "import matplotlib.pyplot as plt\n",
    "\n",
    "import torch\n",
    "from torch.utils.data import Dataset\n",
    "from transformers import AutoModelForCausalLM, AutoTokenizer, Trainer, TrainingArguments\n",
    "from datasets import load_dataset\n",
    "\n",
    "os.environ['CUDA_VISIBLE_DEVICES'] = '7'"
   ]
  },
  {
   "cell_type": "code",
   "execution_count": 2,
   "metadata": {},
   "outputs": [],
   "source": [
    "IGNORE_INDEX = -100\n",
    "DEFAULT_PAD_TOKEN = \"[PAD]\"\n",
    "DEFAULT_EOS_TOKEN = \"</s>\"\n",
    "DEFAULT_BOS_TOKEN = \"<s>\"\n",
    "DEFAULT_UNK_TOKEN = \"<unk>\""
   ]
  },
  {
   "cell_type": "code",
   "execution_count": 3,
   "metadata": {},
   "outputs": [
    {
     "data": {
      "application/vnd.jupyter.widget-view+json": {
       "model_id": "0699d0d047544b7283d32737b652c038",
       "version_major": 2,
       "version_minor": 0
      },
      "text/plain": [
       "Loading checkpoint shards:   0%|          | 0/2 [00:00<?, ?it/s]"
      ]
     },
     "metadata": {},
     "output_type": "display_data"
    }
   ],
   "source": [
    "model_name_or_path = '../DataCollection/officials/Llama-2-7b'\n",
    "# model_name_or_path = '../DataCollection/officials/Qwen2.5-1.5b-Instruct'\n",
    "\n",
    "model = AutoModelForCausalLM.from_pretrained(\n",
    "    model_name_or_path,\n",
    "    torch_dtype=torch.bfloat16\n",
    ")\n",
    "\n",
    "tokenizer = AutoTokenizer.from_pretrained(\n",
    "    model_name_or_path,\n",
    "    padding_side=\"right\",\n",
    "    use_fast=False,\n",
    ")"
   ]
  },
  {
   "cell_type": "code",
   "execution_count": 4,
   "metadata": {},
   "outputs": [],
   "source": [
    "if tokenizer.pad_token is None:\n",
    "    tokenizer.pad_token = tokenizer.eos_token"
   ]
  },
  {
   "cell_type": "code",
   "execution_count": 5,
   "metadata": {},
   "outputs": [
    {
     "name": "stdout",
     "output_type": "stream",
     "text": [
      "DatasetDict({\n",
      "    train: Dataset({\n",
      "        features: ['instruction', 'input', 'output'],\n",
      "        num_rows: 100\n",
      "    })\n",
      "})\n"
     ]
    }
   ],
   "source": [
    "dataset = load_dataset('json', \n",
    "                       data_dir='/data02/hyzhang10/pengxia2/tws/data', \n",
    "                       data_files={\n",
    "                           'train': 'alpaca_data_100.json', \n",
    "                        #    'test': 'alpaca_data_100.json'\n",
    "                           }\n",
    "                       )\n",
    "print(dataset)"
   ]
  },
  {
   "cell_type": "code",
   "execution_count": 6,
   "metadata": {},
   "outputs": [
    {
     "name": "stdout",
     "output_type": "stream",
     "text": [
      "100\n",
      "{'input': '',\n",
      " 'instruction': 'Give three tips for staying healthy.',\n",
      " 'output': '1.Eat a balanced diet and make sure to include plenty of fruits '\n",
      "           'and vegetables. \\n'\n",
      "           '2. Exercise regularly to keep your body active and strong. \\n'\n",
      "           '3. Get enough sleep and maintain a consistent sleep schedule.'}\n"
     ]
    }
   ],
   "source": [
    "print(len(dataset['train']))\n",
    "pprint(dataset['train'][0])"
   ]
  },
  {
   "cell_type": "code",
   "execution_count": 7,
   "metadata": {},
   "outputs": [
    {
     "name": "stdout",
     "output_type": "stream",
     "text": [
      "Dataset({\n",
      "    features: ['input_ids', 'labels'],\n",
      "    num_rows: 100\n",
      "})\n"
     ]
    }
   ],
   "source": [
    "IGNORE_INDEX = -100\n",
    "PROMPT_DICT = {\n",
    "    \"prompt_input\": (\n",
    "        \"Below is an instruction that describes a task, paired with an input that provides further context. \"\n",
    "        \"Write a response that appropriately completes the request.\\n\\n\"\n",
    "        \"### Instruction:\\n{instruction}\\n\\n### Input:\\n{input}\\n\\n### Response:\"\n",
    "    ),\n",
    "    \"prompt_no_input\": (\n",
    "        \"Below is an instruction that describes a task. \"\n",
    "        \"Write a response that appropriately completes the request.\\n\\n\"\n",
    "        \"### Instruction:\\n{instruction}\\n\\n### Response:\"\n",
    "    ),\n",
    "}\n",
    "prompt_input, prompt_no_input = PROMPT_DICT[\"prompt_input\"], PROMPT_DICT[\"prompt_no_input\"]\n",
    "\n",
    "def preprocess_func(example):\n",
    "    source = prompt_input.format_map(example) if example.get(\"input\", \"\") != \"\" else prompt_no_input.format_map(example)\n",
    "    target = f\"{example['output']}{tokenizer.eos_token}\"\n",
    "    full_example = source + target\n",
    "    full_example_tokenzied = tokenizer(full_example, return_tensors=\"pt\",padding=\"longest\", max_length=tokenizer.model_max_length, truncation=True)\n",
    "    input_ids = full_example_tokenzied['input_ids'][0]\n",
    "    labels = copy.deepcopy(input_ids)\n",
    "    source_tokenzied = tokenizer(source, return_tensors=\"pt\",padding=\"longest\", max_length=tokenizer.model_max_length, truncation=True)\n",
    "    labels[:len(source_tokenzied['input_ids'][0])] = IGNORE_INDEX\n",
    "    return dict(\n",
    "        input_ids=input_ids, \n",
    "        labels=labels\n",
    "    )\n",
    "\n",
    "\n",
    "# preprocess_func(dataset['train'][0])\n",
    "train_ds = dataset['train'].map(preprocess_func, remove_columns=list(dataset['train'].features.keys()))\n",
    "print(train_ds)"
   ]
  },
  {
   "cell_type": "code",
   "execution_count": 8,
   "metadata": {},
   "outputs": [
    {
     "name": "stdout",
     "output_type": "stream",
     "text": [
      "[98, 55, 117, 136, 208, 71, 118, 302, 63, 87, 102, 50, 127, 157, 95, 158, 144, 143, 140, 62, 56, 370, 107, 405, 149, 226, 163, 256, 134, 148, 221, 78, 117, 219, 180, 86, 143, 88, 165, 110, 165, 81, 212, 134, 117, 197, 158, 137, 204, 140, 99, 217, 85, 89, 68, 74, 58, 93, 54, 60, 62, 85, 63, 89, 73, 161, 72, 155, 82, 206, 71, 82, 118, 93, 81, 82, 69, 325, 89, 133, 144, 88, 211, 329, 216, 142, 327, 220, 183, 77, 318, 89, 160, 104, 131, 69, 116, 67, 49, 76]\n"
     ]
    }
   ],
   "source": [
    "print([len(input_ids) for input_ids in train_ds['input_ids']])"
   ]
  },
  {
   "cell_type": "code",
   "execution_count": 9,
   "metadata": {},
   "outputs": [
    {
     "name": "stdout",
     "output_type": "stream",
     "text": [
      "{'input_ids': [1, 13866, 338, 385, 15278, 393, 16612, 263, 3414, 29889, 14350, 263, 2933, 393, 7128, 2486, 1614, 2167, 278, 2009, 29889, 13, 13, 2277, 29937, 2799, 4080, 29901, 13, 29954, 573, 2211, 25562, 363, 7952, 292, 9045, 29891, 29889, 13, 13, 2277, 29937, 13291, 29901, 29896, 29889, 29923, 271, 263, 6411, 8362, 652, 300, 322, 1207, 1854, 304, 3160, 20947, 310, 285, 21211, 322, 18655, 1849, 29889, 29871, 13, 29906, 29889, 1222, 6269, 895, 25704, 304, 3013, 596, 3573, 6136, 322, 4549, 29889, 29871, 13, 29941, 29889, 3617, 3307, 8709, 322, 7344, 263, 13747, 8709, 20410, 29889, 2],\n",
      " 'labels': [-100, -100, -100, -100, -100, -100, -100, -100, -100, -100, -100, -100, -100, -100, -100, -100, -100, -100, -100, -100, -100, -100, -100, -100, -100, -100, -100, -100, -100, -100, -100, -100, -100, -100, -100, -100, -100, -100, -100, -100, -100, -100, -100, -100, -100, 29896, 29889, 29923, 271, 263, 6411, 8362, 652, 300, 322, 1207, 1854, 304, 3160, 20947, 310, 285, 21211, 322, 18655, 1849, 29889, 29871, 13, 29906, 29889, 1222, 6269, 895, 25704, 304, 3013, 596, 3573, 6136, 322, 4549, 29889, 29871, 13, 29941, 29889, 3617, 3307, 8709, 322, 7344, 263, 13747, 8709, 20410, 29889, 2]}\n"
     ]
    }
   ],
   "source": [
    "pprint(train_ds[0], width=1000)"
   ]
  },
  {
   "cell_type": "code",
   "execution_count": 11,
   "metadata": {},
   "outputs": [
    {
     "name": "stdout",
     "output_type": "stream",
     "text": [
      "[136, 136]\n"
     ]
    }
   ],
   "source": [
    "@dataclass\n",
    "class DataCollatorForSupervisedDataset(object):\n",
    "    \"\"\"Collate examples for supervised fine-tuning.\"\"\"\n",
    "\n",
    "    tokenizer: AutoTokenizer\n",
    "\n",
    "    def __call__(self, instances: Sequence[Dict]) -> Dict[str, torch.Tensor]:\n",
    "        input_ids, labels = tuple([torch.tensor(instance[key]) for instance in instances] for key in (\"input_ids\", \"labels\"))\n",
    "        # input_ids 用 pad_token_id 补齐\n",
    "        input_ids = torch.nn.utils.rnn.pad_sequence(\n",
    "            input_ids, batch_first=True, padding_value=self.tokenizer.pad_token_id\n",
    "        )\n",
    "        # labels 用 IGNORE_INDEX 补齐\n",
    "        labels = torch.nn.utils.rnn.pad_sequence(labels, batch_first=True, padding_value=IGNORE_INDEX)\n",
    "        return dict(\n",
    "            input_ids=input_ids,\n",
    "            labels=labels,\n",
    "            attention_mask=input_ids.ne(self.tokenizer.pad_token_id), # attention_mask 直接基于 input_ids\n",
    "        )\n",
    "\n",
    "dc = DataCollatorForSupervisedDataset(tokenizer)\n",
    "# DataCollator的输入是list[dict[str, tensor]]\n",
    "ret = [train_ds[index] for index in range(2,4)]\n",
    "ret = dc(ret)\n",
    "print([len(input_ids) for input_ids in ret['input_ids']])"
   ]
  },
  {
   "cell_type": "code",
   "execution_count": 12,
   "metadata": {},
   "outputs": [],
   "source": [
    "train_dataset = train_ds\n",
    "eval_dataset=None\n",
    "data_collator = DataCollatorForSupervisedDataset(tokenizer)"
   ]
  },
  {
   "cell_type": "code",
   "execution_count": 13,
   "metadata": {},
   "outputs": [
    {
     "name": "stderr",
     "output_type": "stream",
     "text": [
      "/data02/hyzhang10/miniconda3/envs/xp-nlp/lib/python3.12/site-packages/transformers/training_args.py:1559: FutureWarning: `evaluation_strategy` is deprecated and will be removed in version 4.46 of 🤗 Transformers. Use `eval_strategy` instead\n",
      "  warnings.warn(\n",
      "/tmp/ipykernel_41749/2745160975.py:18: FutureWarning: `tokenizer` is deprecated and will be removed in version 5.0.0 for `Trainer.__init__`. Use `processing_class` instead.\n",
      "  trainer = Trainer(model=model,\n",
      "Detected kernel version 3.10.0, which is below the recommended minimum of 5.5.0; this can cause the process to hang. It is recommended to upgrade the kernel to the minimum version or higher.\n"
     ]
    },
    {
     "name": "stdout",
     "output_type": "stream",
     "text": [
      "[2024-12-16 15:00:43,755] [INFO] [real_accelerator.py:203:get_accelerator] Setting ds_accelerator to cuda (auto detect)\n"
     ]
    },
    {
     "name": "stderr",
     "output_type": "stream",
     "text": [
      "/data02/hyzhang10/miniconda3/envs/xp-nlp/compiler_compat/ld: warning: libstdc++.so.6, needed by /usr/local/cuda-12.2/lib64/libcufile.so, not found (try using -rpath or -rpath-link)\n",
      "/data02/hyzhang10/miniconda3/envs/xp-nlp/compiler_compat/ld: warning: libm.so.6, needed by /usr/local/cuda-12.2/lib64/libcufile.so, not found (try using -rpath or -rpath-link)\n",
      "/data02/hyzhang10/miniconda3/envs/xp-nlp/compiler_compat/ld: /usr/local/cuda-12.2/lib64/libcufile.so: undefined reference to `std::runtime_error::~runtime_error()@GLIBCXX_3.4'\n",
      "/data02/hyzhang10/miniconda3/envs/xp-nlp/compiler_compat/ld: /usr/local/cuda-12.2/lib64/libcufile.so: undefined reference to `__gxx_personality_v0@CXXABI_1.3'\n",
      "/data02/hyzhang10/miniconda3/envs/xp-nlp/compiler_compat/ld: /usr/local/cuda-12.2/lib64/libcufile.so: undefined reference to `std::ostream::tellp()@GLIBCXX_3.4'\n",
      "/data02/hyzhang10/miniconda3/envs/xp-nlp/compiler_compat/ld: /usr/local/cuda-12.2/lib64/libcufile.so: undefined reference to `std::chrono::_V2::steady_clock::now()@GLIBCXX_3.4.19'\n",
      "/data02/hyzhang10/miniconda3/envs/xp-nlp/compiler_compat/ld: /usr/local/cuda-12.2/lib64/libcufile.so: undefined reference to `std::string::_M_replace_aux(unsigned long, unsigned long, unsigned long, char)@GLIBCXX_3.4'\n",
      "/data02/hyzhang10/miniconda3/envs/xp-nlp/compiler_compat/ld: /usr/local/cuda-12.2/lib64/libcufile.so: undefined reference to `dlopen'\n",
      "/data02/hyzhang10/miniconda3/envs/xp-nlp/compiler_compat/ld: /usr/local/cuda-12.2/lib64/libcufile.so: undefined reference to `typeinfo for bool@CXXABI_1.3'\n",
      "/data02/hyzhang10/miniconda3/envs/xp-nlp/compiler_compat/ld: /usr/local/cuda-12.2/lib64/libcufile.so: undefined reference to `std::__throw_logic_error(char const*)@GLIBCXX_3.4'\n",
      "/data02/hyzhang10/miniconda3/envs/xp-nlp/compiler_compat/ld: /usr/local/cuda-12.2/lib64/libcufile.so: undefined reference to `VTT for std::basic_ostringstream<char, std::char_traits<char>, std::allocator<char> >@GLIBCXX_3.4'\n",
      "/data02/hyzhang10/miniconda3/envs/xp-nlp/compiler_compat/ld: /usr/local/cuda-12.2/lib64/libcufile.so: undefined reference to `vtable for std::logic_error@GLIBCXX_3.4'\n",
      "/data02/hyzhang10/miniconda3/envs/xp-nlp/compiler_compat/ld: /usr/local/cuda-12.2/lib64/libcufile.so: undefined reference to `std::locale::~locale()@GLIBCXX_3.4'\n",
      "/data02/hyzhang10/miniconda3/envs/xp-nlp/compiler_compat/ld: /usr/local/cuda-12.2/lib64/libcufile.so: undefined reference to `std::basic_string<char, std::char_traits<char>, std::allocator<char> >::basic_string(std::string const&, unsigned long, unsigned long)@GLIBCXX_3.4'\n",
      "/data02/hyzhang10/miniconda3/envs/xp-nlp/compiler_compat/ld: /usr/local/cuda-12.2/lib64/libcufile.so: undefined reference to `__cxa_end_catch@CXXABI_1.3'\n",
      "/data02/hyzhang10/miniconda3/envs/xp-nlp/compiler_compat/ld: /usr/local/cuda-12.2/lib64/libcufile.so: undefined reference to `VTT for std::basic_ofstream<char, std::char_traits<char> >@GLIBCXX_3.4'\n",
      "/data02/hyzhang10/miniconda3/envs/xp-nlp/compiler_compat/ld: /usr/local/cuda-12.2/lib64/libcufile.so: undefined reference to `std::logic_error::~logic_error()@GLIBCXX_3.4'\n",
      "/data02/hyzhang10/miniconda3/envs/xp-nlp/compiler_compat/ld: /usr/local/cuda-12.2/lib64/libcufile.so: undefined reference to `vtable for __cxxabiv1::__si_class_type_info@CXXABI_1.3'\n",
      "/data02/hyzhang10/miniconda3/envs/xp-nlp/compiler_compat/ld: /usr/local/cuda-12.2/lib64/libcufile.so: undefined reference to `std::basic_ios<char, std::char_traits<char> >::_M_cache_locale(std::locale const&)@GLIBCXX_3.4'\n",
      "/data02/hyzhang10/miniconda3/envs/xp-nlp/compiler_compat/ld: /usr/local/cuda-12.2/lib64/libcufile.so: undefined reference to `VTT for std::basic_stringstream<char, std::char_traits<char>, std::allocator<char> >@GLIBCXX_3.4'\n",
      "/data02/hyzhang10/miniconda3/envs/xp-nlp/compiler_compat/ld: /usr/local/cuda-12.2/lib64/libcufile.so: undefined reference to `operator new[](unsigned long)@GLIBCXX_3.4'\n",
      "/data02/hyzhang10/miniconda3/envs/xp-nlp/compiler_compat/ld: /usr/local/cuda-12.2/lib64/libcufile.so: undefined reference to `std::string::_M_leak_hard()@GLIBCXX_3.4'\n",
      "/data02/hyzhang10/miniconda3/envs/xp-nlp/compiler_compat/ld: /usr/local/cuda-12.2/lib64/libcufile.so: undefined reference to `vtable for std::basic_ifstream<char, std::char_traits<char> >@GLIBCXX_3.4'\n",
      "/data02/hyzhang10/miniconda3/envs/xp-nlp/compiler_compat/ld: /usr/local/cuda-12.2/lib64/libcufile.so: undefined reference to `std::basic_streambuf<wchar_t, std::char_traits<wchar_t> >::basic_streambuf(std::basic_streambuf<wchar_t, std::char_traits<wchar_t> > const&)@GLIBCXX_3.4'\n",
      "/data02/hyzhang10/miniconda3/envs/xp-nlp/compiler_compat/ld: /usr/local/cuda-12.2/lib64/libcufile.so: undefined reference to `std::string::append(char const*, unsigned long)@GLIBCXX_3.4'\n",
      "/data02/hyzhang10/miniconda3/envs/xp-nlp/compiler_compat/ld: /usr/local/cuda-12.2/lib64/libcufile.so: undefined reference to `std::basic_string<char, std::char_traits<char>, std::allocator<char> >::basic_string(std::string const&)@GLIBCXX_3.4'\n",
      "/data02/hyzhang10/miniconda3/envs/xp-nlp/compiler_compat/ld: /usr/local/cuda-12.2/lib64/libcufile.so: undefined reference to `typeinfo for unsigned short@CXXABI_1.3'\n",
      "/data02/hyzhang10/miniconda3/envs/xp-nlp/compiler_compat/ld: /usr/local/cuda-12.2/lib64/libcufile.so: undefined reference to `std::string::resize(unsigned long, char)@GLIBCXX_3.4'\n",
      "/data02/hyzhang10/miniconda3/envs/xp-nlp/compiler_compat/ld: /usr/local/cuda-12.2/lib64/libcufile.so: undefined reference to `typeinfo for char const*@CXXABI_1.3'\n",
      "/data02/hyzhang10/miniconda3/envs/xp-nlp/compiler_compat/ld: /usr/local/cuda-12.2/lib64/libcufile.so: undefined reference to `std::ctype<char>::_M_widen_init() const@GLIBCXX_3.4.11'\n",
      "/data02/hyzhang10/miniconda3/envs/xp-nlp/compiler_compat/ld: /usr/local/cuda-12.2/lib64/libcufile.so: undefined reference to `std::__throw_invalid_argument(char const*)@GLIBCXX_3.4'\n",
      "/data02/hyzhang10/miniconda3/envs/xp-nlp/compiler_compat/ld: /usr/local/cuda-12.2/lib64/libcufile.so: undefined reference to `std::locale::operator=(std::locale const&)@GLIBCXX_3.4'\n",
      "/data02/hyzhang10/miniconda3/envs/xp-nlp/compiler_compat/ld: /usr/local/cuda-12.2/lib64/libcufile.so: undefined reference to `std::basic_ios<wchar_t, std::char_traits<wchar_t> >::_M_cache_locale(std::locale const&)@GLIBCXX_3.4'\n",
      "/data02/hyzhang10/miniconda3/envs/xp-nlp/compiler_compat/ld: /usr/local/cuda-12.2/lib64/libcufile.so: undefined reference to `std::_Rb_tree_decrement(std::_Rb_tree_node_base const*)@GLIBCXX_3.4'\n",
      "/data02/hyzhang10/miniconda3/envs/xp-nlp/compiler_compat/ld: /usr/local/cuda-12.2/lib64/libcufile.so: undefined reference to `__cxa_free_exception@CXXABI_1.3'\n",
      "/data02/hyzhang10/miniconda3/envs/xp-nlp/compiler_compat/ld: /usr/local/cuda-12.2/lib64/libcufile.so: undefined reference to `std::condition_variable::notify_one()@GLIBCXX_3.4.11'\n",
      "/data02/hyzhang10/miniconda3/envs/xp-nlp/compiler_compat/ld: /usr/local/cuda-12.2/lib64/libcufile.so: undefined reference to `std::ios_base::Init::~Init()@GLIBCXX_3.4'\n",
      "/data02/hyzhang10/miniconda3/envs/xp-nlp/compiler_compat/ld: /usr/local/cuda-12.2/lib64/libcufile.so: undefined reference to `std::basic_string<char, std::char_traits<char>, std::allocator<char> >::~basic_string()@GLIBCXX_3.4'\n",
      "/data02/hyzhang10/miniconda3/envs/xp-nlp/compiler_compat/ld: /usr/local/cuda-12.2/lib64/libcufile.so: undefined reference to `__cxa_pure_virtual@CXXABI_1.3'\n",
      "/data02/hyzhang10/miniconda3/envs/xp-nlp/compiler_compat/ld: /usr/local/cuda-12.2/lib64/libcufile.so: undefined reference to `std::ostream::flush()@GLIBCXX_3.4'\n",
      "/data02/hyzhang10/miniconda3/envs/xp-nlp/compiler_compat/ld: /usr/local/cuda-12.2/lib64/libcufile.so: undefined reference to `vtable for __cxxabiv1::__class_type_info@CXXABI_1.3'\n",
      "/data02/hyzhang10/miniconda3/envs/xp-nlp/compiler_compat/ld: /usr/local/cuda-12.2/lib64/libcufile.so: undefined reference to `__cxa_rethrow@CXXABI_1.3'\n",
      "/data02/hyzhang10/miniconda3/envs/xp-nlp/compiler_compat/ld: /usr/local/cuda-12.2/lib64/libcufile.so: undefined reference to `vtable for std::basic_stringbuf<char, std::char_traits<char>, std::allocator<char> >@GLIBCXX_3.4'\n",
      "/data02/hyzhang10/miniconda3/envs/xp-nlp/compiler_compat/ld: /usr/local/cuda-12.2/lib64/libcufile.so: undefined reference to `std::basic_fstream<char, std::char_traits<char> >::~basic_fstream()@GLIBCXX_3.4'\n",
      "/data02/hyzhang10/miniconda3/envs/xp-nlp/compiler_compat/ld: /usr/local/cuda-12.2/lib64/libcufile.so: undefined reference to `std::string::compare(char const*) const@GLIBCXX_3.4'\n",
      "/data02/hyzhang10/miniconda3/envs/xp-nlp/compiler_compat/ld: /usr/local/cuda-12.2/lib64/libcufile.so: undefined reference to `VTT for std::basic_ostringstream<wchar_t, std::char_traits<wchar_t>, std::allocator<wchar_t> >@GLIBCXX_3.4'\n",
      "/data02/hyzhang10/miniconda3/envs/xp-nlp/compiler_compat/ld: /usr/local/cuda-12.2/lib64/libcufile.so: undefined reference to `std::locale::locale()@GLIBCXX_3.4'\n",
      "/data02/hyzhang10/miniconda3/envs/xp-nlp/compiler_compat/ld: /usr/local/cuda-12.2/lib64/libcufile.so: undefined reference to `std::chrono::_V2::system_clock::now()@GLIBCXX_3.4.19'\n",
      "/data02/hyzhang10/miniconda3/envs/xp-nlp/compiler_compat/ld: /usr/local/cuda-12.2/lib64/libcufile.so: undefined reference to `VTT for std::basic_ifstream<char, std::char_traits<char> >@GLIBCXX_3.4'\n",
      "/data02/hyzhang10/miniconda3/envs/xp-nlp/compiler_compat/ld: /usr/local/cuda-12.2/lib64/libcufile.so: undefined reference to `std::_Hash_bytes(void const*, unsigned long, unsigned long)@CXXABI_1.3.5'\n",
      "/data02/hyzhang10/miniconda3/envs/xp-nlp/compiler_compat/ld: /usr/local/cuda-12.2/lib64/libcufile.so: undefined reference to `std::ostream& std::ostream::_M_insert<long long>(long long)@GLIBCXX_3.4.9'\n",
      "/data02/hyzhang10/miniconda3/envs/xp-nlp/compiler_compat/ld: /usr/local/cuda-12.2/lib64/libcufile.so: undefined reference to `typeinfo for char*@CXXABI_1.3'\n",
      "/data02/hyzhang10/miniconda3/envs/xp-nlp/compiler_compat/ld: /usr/local/cuda-12.2/lib64/libcufile.so: undefined reference to `std::__detail::_Prime_rehash_policy::_M_need_rehash(unsigned long, unsigned long, unsigned long) const@GLIBCXX_3.4.18'\n",
      "/data02/hyzhang10/miniconda3/envs/xp-nlp/compiler_compat/ld: /usr/local/cuda-12.2/lib64/libcufile.so: undefined reference to `vtable for std::out_of_range@GLIBCXX_3.4'\n",
      "/data02/hyzhang10/miniconda3/envs/xp-nlp/compiler_compat/ld: /usr/local/cuda-12.2/lib64/libcufile.so: undefined reference to `dlclose'\n",
      "/data02/hyzhang10/miniconda3/envs/xp-nlp/compiler_compat/ld: /usr/local/cuda-12.2/lib64/libcufile.so: undefined reference to `std::ostream& std::ostream::_M_insert<unsigned long>(unsigned long)@GLIBCXX_3.4.9'\n",
      "/data02/hyzhang10/miniconda3/envs/xp-nlp/compiler_compat/ld: /usr/local/cuda-12.2/lib64/libcufile.so: undefined reference to `std::_Rb_tree_increment(std::_Rb_tree_node_base const*)@GLIBCXX_3.4'\n",
      "/data02/hyzhang10/miniconda3/envs/xp-nlp/compiler_compat/ld: /usr/local/cuda-12.2/lib64/libcufile.so: undefined reference to `std::ios_base::~ios_base()@GLIBCXX_3.4'\n",
      "/data02/hyzhang10/miniconda3/envs/xp-nlp/compiler_compat/ld: /usr/local/cuda-12.2/lib64/libcufile.so: undefined reference to `std::range_error::~range_error()@GLIBCXX_3.4'\n",
      "/data02/hyzhang10/miniconda3/envs/xp-nlp/compiler_compat/ld: /usr/local/cuda-12.2/lib64/libcufile.so: undefined reference to `std::__basic_file<char>::~__basic_file()@GLIBCXX_3.4'\n",
      "/data02/hyzhang10/miniconda3/envs/xp-nlp/compiler_compat/ld: /usr/local/cuda-12.2/lib64/libcufile.so: undefined reference to `__cxa_guard_acquire@CXXABI_1.3'\n",
      "/data02/hyzhang10/miniconda3/envs/xp-nlp/compiler_compat/ld: /usr/local/cuda-12.2/lib64/libcufile.so: undefined reference to `std::ostream& std::ostream::_M_insert<bool>(bool)@GLIBCXX_3.4.9'\n",
      "/data02/hyzhang10/miniconda3/envs/xp-nlp/compiler_compat/ld: /usr/local/cuda-12.2/lib64/libcufile.so: undefined reference to `vtable for std::overflow_error@GLIBCXX_3.4'\n",
      "/data02/hyzhang10/miniconda3/envs/xp-nlp/compiler_compat/ld: /usr/local/cuda-12.2/lib64/libcufile.so: undefined reference to `VTT for std::basic_fstream<char, std::char_traits<char> >@GLIBCXX_3.4'\n",
      "/data02/hyzhang10/miniconda3/envs/xp-nlp/compiler_compat/ld: /usr/local/cuda-12.2/lib64/libcufile.so: undefined reference to `shm_unlink'\n",
      "/data02/hyzhang10/miniconda3/envs/xp-nlp/compiler_compat/ld: /usr/local/cuda-12.2/lib64/libcufile.so: undefined reference to `vtable for std::range_error@GLIBCXX_3.4'\n",
      "/data02/hyzhang10/miniconda3/envs/xp-nlp/compiler_compat/ld: /usr/local/cuda-12.2/lib64/libcufile.so: undefined reference to `vtable for std::basic_ios<char, std::char_traits<char> >@GLIBCXX_3.4'\n",
      "/data02/hyzhang10/miniconda3/envs/xp-nlp/compiler_compat/ld: /usr/local/cuda-12.2/lib64/libcufile.so: undefined reference to `vtable for std::basic_filebuf<char, std::char_traits<char> >@GLIBCXX_3.4'\n",
      "/data02/hyzhang10/miniconda3/envs/xp-nlp/compiler_compat/ld: /usr/local/cuda-12.2/lib64/libcufile.so: undefined reference to `operator delete[](void*)@GLIBCXX_3.4'\n",
      "/data02/hyzhang10/miniconda3/envs/xp-nlp/compiler_compat/ld: /usr/local/cuda-12.2/lib64/libcufile.so: undefined reference to `vtable for std::basic_stringstream<char, std::char_traits<char>, std::allocator<char> >@GLIBCXX_3.4'\n",
      "/data02/hyzhang10/miniconda3/envs/xp-nlp/compiler_compat/ld: /usr/local/cuda-12.2/lib64/libcufile.so: undefined reference to `std::basic_string<char, std::char_traits<char>, std::allocator<char> >::basic_string(unsigned long, char, std::allocator<char> const&)@GLIBCXX_3.4'\n",
      "/data02/hyzhang10/miniconda3/envs/xp-nlp/compiler_compat/ld: /usr/local/cuda-12.2/lib64/libcufile.so: undefined reference to `std::__detail::_List_node_base::_M_transfer(std::__detail::_List_node_base*, std::__detail::_List_node_base*)@GLIBCXX_3.4.15'\n",
      "/data02/hyzhang10/miniconda3/envs/xp-nlp/compiler_compat/ld: /usr/local/cuda-12.2/lib64/libcufile.so: undefined reference to `std::string::replace(unsigned long, unsigned long, char const*, unsigned long)@GLIBCXX_3.4'\n",
      "/data02/hyzhang10/miniconda3/envs/xp-nlp/compiler_compat/ld: /usr/local/cuda-12.2/lib64/libcufile.so: undefined reference to `typeinfo for std::exception@GLIBCXX_3.4'\n",
      "/data02/hyzhang10/miniconda3/envs/xp-nlp/compiler_compat/ld: /usr/local/cuda-12.2/lib64/libcufile.so: undefined reference to `std::basic_string<wchar_t, std::char_traits<wchar_t>, std::allocator<wchar_t> >::_Rep::_M_destroy(std::allocator<wchar_t> const&)@GLIBCXX_3.4'\n",
      "/data02/hyzhang10/miniconda3/envs/xp-nlp/compiler_compat/ld: /usr/local/cuda-12.2/lib64/libcufile.so: undefined reference to `std::istream& std::istream::_M_extract<double>(double&)@GLIBCXX_3.4.9'\n",
      "/data02/hyzhang10/miniconda3/envs/xp-nlp/compiler_compat/ld: /usr/local/cuda-12.2/lib64/libcufile.so: undefined reference to `std::basic_filebuf<char, std::char_traits<char> >::close()@GLIBCXX_3.4'\n",
      "/data02/hyzhang10/miniconda3/envs/xp-nlp/compiler_compat/ld: /usr/local/cuda-12.2/lib64/libcufile.so: undefined reference to `vtable for std::basic_fstream<char, std::char_traits<char> >@GLIBCXX_3.4'\n",
      "/data02/hyzhang10/miniconda3/envs/xp-nlp/compiler_compat/ld: /usr/local/cuda-12.2/lib64/libcufile.so: undefined reference to `std::basic_ifstream<char, std::char_traits<char> >::basic_ifstream(char const*, std::_Ios_Openmode)@GLIBCXX_3.4'\n",
      "/data02/hyzhang10/miniconda3/envs/xp-nlp/compiler_compat/ld: /usr/local/cuda-12.2/lib64/libcufile.so: undefined reference to `std::string::append(std::string const&)@GLIBCXX_3.4'\n",
      "/data02/hyzhang10/miniconda3/envs/xp-nlp/compiler_compat/ld: /usr/local/cuda-12.2/lib64/libcufile.so: undefined reference to `operator new(unsigned long)@GLIBCXX_3.4'\n",
      "/data02/hyzhang10/miniconda3/envs/xp-nlp/compiler_compat/ld: /usr/local/cuda-12.2/lib64/libcufile.so: undefined reference to `VTT for std::basic_istringstream<wchar_t, std::char_traits<wchar_t>, std::allocator<wchar_t> >@GLIBCXX_3.4'\n",
      "/data02/hyzhang10/miniconda3/envs/xp-nlp/compiler_compat/ld: /usr/local/cuda-12.2/lib64/libcufile.so: undefined reference to `typeinfo for unsigned int@CXXABI_1.3'\n",
      "/data02/hyzhang10/miniconda3/envs/xp-nlp/compiler_compat/ld: /usr/local/cuda-12.2/lib64/libcufile.so: undefined reference to `std::string::append(char const*)@GLIBCXX_3.4'\n",
      "/data02/hyzhang10/miniconda3/envs/xp-nlp/compiler_compat/ld: /usr/local/cuda-12.2/lib64/libcufile.so: undefined reference to `vtable for std::domain_error@GLIBCXX_3.4'\n",
      "/data02/hyzhang10/miniconda3/envs/xp-nlp/compiler_compat/ld: /usr/local/cuda-12.2/lib64/libcufile.so: undefined reference to `std::string::find(char, unsigned long) const@GLIBCXX_3.4'\n",
      "/data02/hyzhang10/miniconda3/envs/xp-nlp/compiler_compat/ld: /usr/local/cuda-12.2/lib64/libcufile.so: undefined reference to `std::ostream::put(char)@GLIBCXX_3.4'\n",
      "/data02/hyzhang10/miniconda3/envs/xp-nlp/compiler_compat/ld: /usr/local/cuda-12.2/lib64/libcufile.so: undefined reference to `typeinfo for int@CXXABI_1.3'\n",
      "/data02/hyzhang10/miniconda3/envs/xp-nlp/compiler_compat/ld: /usr/local/cuda-12.2/lib64/libcufile.so: undefined reference to `std::__throw_bad_alloc()@GLIBCXX_3.4'\n",
      "/data02/hyzhang10/miniconda3/envs/xp-nlp/compiler_compat/ld: /usr/local/cuda-12.2/lib64/libcufile.so: undefined reference to `__cxa_thread_atexit@CXXABI_1.3.7'\n",
      "/data02/hyzhang10/miniconda3/envs/xp-nlp/compiler_compat/ld: /usr/local/cuda-12.2/lib64/libcufile.so: undefined reference to `typeinfo for unsigned int*@CXXABI_1.3'\n",
      "/data02/hyzhang10/miniconda3/envs/xp-nlp/compiler_compat/ld: /usr/local/cuda-12.2/lib64/libcufile.so: undefined reference to `std::_Rb_tree_increment(std::_Rb_tree_node_base*)@GLIBCXX_3.4'\n",
      "/data02/hyzhang10/miniconda3/envs/xp-nlp/compiler_compat/ld: /usr/local/cuda-12.2/lib64/libcufile.so: undefined reference to `std::basic_ifstream<char, std::char_traits<char> >::~basic_ifstream()@GLIBCXX_3.4'\n",
      "/data02/hyzhang10/miniconda3/envs/xp-nlp/compiler_compat/ld: /usr/local/cuda-12.2/lib64/libcufile.so: undefined reference to `std::ios_base::Init::Init()@GLIBCXX_3.4'\n",
      "/data02/hyzhang10/miniconda3/envs/xp-nlp/compiler_compat/ld: /usr/local/cuda-12.2/lib64/libcufile.so: undefined reference to `std::condition_variable::condition_variable()@GLIBCXX_3.4.11'\n",
      "/data02/hyzhang10/miniconda3/envs/xp-nlp/compiler_compat/ld: /usr/local/cuda-12.2/lib64/libcufile.so: undefined reference to `std::basic_filebuf<char, std::char_traits<char> >::basic_filebuf()@GLIBCXX_3.4'\n",
      "/data02/hyzhang10/miniconda3/envs/xp-nlp/compiler_compat/ld: /usr/local/cuda-12.2/lib64/libcufile.so: undefined reference to `VTT for std::basic_istringstream<char, std::char_traits<char>, std::allocator<char> >@GLIBCXX_3.4'\n",
      "/data02/hyzhang10/miniconda3/envs/xp-nlp/compiler_compat/ld: /usr/local/cuda-12.2/lib64/libcufile.so: undefined reference to `std::domain_error::~domain_error()@GLIBCXX_3.4'\n",
      "/data02/hyzhang10/miniconda3/envs/xp-nlp/compiler_compat/ld: /usr/local/cuda-12.2/lib64/libcufile.so: undefined reference to `std::cerr@GLIBCXX_3.4'\n",
      "/data02/hyzhang10/miniconda3/envs/xp-nlp/compiler_compat/ld: /usr/local/cuda-12.2/lib64/libcufile.so: undefined reference to `std::string::find(char const*, unsigned long, unsigned long) const@GLIBCXX_3.4'\n",
      "/data02/hyzhang10/miniconda3/envs/xp-nlp/compiler_compat/ld: /usr/local/cuda-12.2/lib64/libcufile.so: undefined reference to `vtable for std::basic_istringstream<char, std::char_traits<char>, std::allocator<char> >@GLIBCXX_3.4'\n",
      "/data02/hyzhang10/miniconda3/envs/xp-nlp/compiler_compat/ld: /usr/local/cuda-12.2/lib64/libcufile.so: undefined reference to `std::basic_string<char, std::char_traits<char>, std::allocator<char> >::basic_string(std::allocator<char> const&)@GLIBCXX_3.4'\n",
      "/data02/hyzhang10/miniconda3/envs/xp-nlp/compiler_compat/ld: /usr/local/cuda-12.2/lib64/libcufile.so: undefined reference to `std::basic_stringbuf<char, std::char_traits<char>, std::allocator<char> >::str() const@GLIBCXX_3.4'\n",
      "/data02/hyzhang10/miniconda3/envs/xp-nlp/compiler_compat/ld: /usr/local/cuda-12.2/lib64/libcufile.so: undefined reference to `vtable for std::invalid_argument@GLIBCXX_3.4'\n",
      "/data02/hyzhang10/miniconda3/envs/xp-nlp/compiler_compat/ld: /usr/local/cuda-12.2/lib64/libcufile.so: undefined reference to `typeinfo for void*@CXXABI_1.3'\n",
      "/data02/hyzhang10/miniconda3/envs/xp-nlp/compiler_compat/ld: /usr/local/cuda-12.2/lib64/libcufile.so: undefined reference to `std::string::assign(std::string const&)@GLIBCXX_3.4'\n",
      "/data02/hyzhang10/miniconda3/envs/xp-nlp/compiler_compat/ld: /usr/local/cuda-12.2/lib64/libcufile.so: undefined reference to `std::basic_ostringstream<char, std::char_traits<char>, std::allocator<char> >::~basic_ostringstream()@GLIBCXX_3.4'\n",
      "/data02/hyzhang10/miniconda3/envs/xp-nlp/compiler_compat/ld: /usr/local/cuda-12.2/lib64/libcufile.so: undefined reference to `std::_Rb_tree_rebalance_for_erase(std::_Rb_tree_node_base*, std::_Rb_tree_node_base&)@GLIBCXX_3.4'\n",
      "/data02/hyzhang10/miniconda3/envs/xp-nlp/compiler_compat/ld: /usr/local/cuda-12.2/lib64/libcufile.so: undefined reference to `typeinfo for unsigned long@CXXABI_1.3'\n",
      "/data02/hyzhang10/miniconda3/envs/xp-nlp/compiler_compat/ld: /usr/local/cuda-12.2/lib64/libcufile.so: undefined reference to `std::__detail::_List_node_base::_M_hook(std::__detail::_List_node_base*)@GLIBCXX_3.4.15'\n",
      "/data02/hyzhang10/miniconda3/envs/xp-nlp/compiler_compat/ld: /usr/local/cuda-12.2/lib64/libcufile.so: undefined reference to `std::__detail::_List_node_base::_M_unhook()@GLIBCXX_3.4.15'\n",
      "/data02/hyzhang10/miniconda3/envs/xp-nlp/compiler_compat/ld: /usr/local/cuda-12.2/lib64/libcufile.so: undefined reference to `vtable for std::basic_ostringstream<wchar_t, std::char_traits<wchar_t>, std::allocator<wchar_t> >@GLIBCXX_3.4'\n",
      "/data02/hyzhang10/miniconda3/envs/xp-nlp/compiler_compat/ld: /usr/local/cuda-12.2/lib64/libcufile.so: undefined reference to `std::basic_stringbuf<char, std::char_traits<char>, std::allocator<char> >::_M_sync(char*, unsigned long, unsigned long)@GLIBCXX_3.4'\n",
      "/data02/hyzhang10/miniconda3/envs/xp-nlp/compiler_compat/ld: /usr/local/cuda-12.2/lib64/libcufile.so: undefined reference to `std::basic_iostream<char, std::char_traits<char> >::~basic_iostream()@GLIBCXX_3.4'\n",
      "/data02/hyzhang10/miniconda3/envs/xp-nlp/compiler_compat/ld: /usr/local/cuda-12.2/lib64/libcufile.so: undefined reference to `std::locale::locale(std::locale const&)@GLIBCXX_3.4'\n",
      "/data02/hyzhang10/miniconda3/envs/xp-nlp/compiler_compat/ld: /usr/local/cuda-12.2/lib64/libcufile.so: undefined reference to `vtable for std::basic_istringstream<wchar_t, std::char_traits<wchar_t>, std::allocator<wchar_t> >@GLIBCXX_3.4'\n",
      "/data02/hyzhang10/miniconda3/envs/xp-nlp/compiler_compat/ld: /usr/local/cuda-12.2/lib64/libcufile.so: undefined reference to `log2f@GLIBC_2.2.5'\n",
      "/data02/hyzhang10/miniconda3/envs/xp-nlp/compiler_compat/ld: /usr/local/cuda-12.2/lib64/libcufile.so: undefined reference to `std::ostream::operator<<(std::basic_streambuf<char, std::char_traits<char> >*)@GLIBCXX_3.4'\n",
      "/data02/hyzhang10/miniconda3/envs/xp-nlp/compiler_compat/ld: /usr/local/cuda-12.2/lib64/libcufile.so: undefined reference to `vtable for std::basic_streambuf<wchar_t, std::char_traits<wchar_t> >@GLIBCXX_3.4'\n",
      "/data02/hyzhang10/miniconda3/envs/xp-nlp/compiler_compat/ld: /usr/local/cuda-12.2/lib64/libcufile.so: undefined reference to `std::exception::~exception()@GLIBCXX_3.4'\n",
      "/data02/hyzhang10/miniconda3/envs/xp-nlp/compiler_compat/ld: /usr/local/cuda-12.2/lib64/libcufile.so: undefined reference to `std::string::_Rep::_S_create(unsigned long, unsigned long, std::allocator<char> const&)@GLIBCXX_3.4'\n",
      "/data02/hyzhang10/miniconda3/envs/xp-nlp/compiler_compat/ld: /usr/local/cuda-12.2/lib64/libcufile.so: undefined reference to `std::__basic_file<char>::is_open() const@GLIBCXX_3.4'\n",
      "/data02/hyzhang10/miniconda3/envs/xp-nlp/compiler_compat/ld: /usr/local/cuda-12.2/lib64/libcufile.so: undefined reference to `dlerror'\n",
      "/data02/hyzhang10/miniconda3/envs/xp-nlp/compiler_compat/ld: /usr/local/cuda-12.2/lib64/libcufile.so: undefined reference to `std::basic_istringstream<char, std::char_traits<char>, std::allocator<char> >::~basic_istringstream()@GLIBCXX_3.4'\n",
      "/data02/hyzhang10/miniconda3/envs/xp-nlp/compiler_compat/ld: /usr/local/cuda-12.2/lib64/libcufile.so: undefined reference to `std::string::swap(std::string&)@GLIBCXX_3.4'\n",
      "/data02/hyzhang10/miniconda3/envs/xp-nlp/compiler_compat/ld: /usr/local/cuda-12.2/lib64/libcufile.so: undefined reference to `vtable for std::basic_ostringstream<char, std::char_traits<char>, std::allocator<char> >@GLIBCXX_3.4'\n",
      "/data02/hyzhang10/miniconda3/envs/xp-nlp/compiler_compat/ld: /usr/local/cuda-12.2/lib64/libcufile.so: undefined reference to `std::basic_streambuf<char, std::char_traits<char> >::basic_streambuf(std::basic_streambuf<char, std::char_traits<char> > const&)@GLIBCXX_3.4'\n",
      "/data02/hyzhang10/miniconda3/envs/xp-nlp/compiler_compat/ld: /usr/local/cuda-12.2/lib64/libcufile.so: undefined reference to `std::basic_ios<char, std::char_traits<char> >::init(std::basic_streambuf<char, std::char_traits<char> >*)@GLIBCXX_3.4'\n",
      "/data02/hyzhang10/miniconda3/envs/xp-nlp/compiler_compat/ld: /usr/local/cuda-12.2/lib64/libcufile.so: undefined reference to `dlsym'\n",
      "/data02/hyzhang10/miniconda3/envs/xp-nlp/compiler_compat/ld: /usr/local/cuda-12.2/lib64/libcufile.so: undefined reference to `std::__throw_bad_cast()@GLIBCXX_3.4'\n",
      "/data02/hyzhang10/miniconda3/envs/xp-nlp/compiler_compat/ld: /usr/local/cuda-12.2/lib64/libcufile.so: undefined reference to `std::basic_ios<char, std::char_traits<char> >::clear(std::_Ios_Iostate)@GLIBCXX_3.4'\n",
      "/data02/hyzhang10/miniconda3/envs/xp-nlp/compiler_compat/ld: /usr/local/cuda-12.2/lib64/libcufile.so: undefined reference to `std::basic_streambuf<wchar_t, std::char_traits<wchar_t> >::operator=(std::basic_streambuf<wchar_t, std::char_traits<wchar_t> > const&)@GLIBCXX_3.4'\n",
      "/data02/hyzhang10/miniconda3/envs/xp-nlp/compiler_compat/ld: /usr/local/cuda-12.2/lib64/libcufile.so: undefined reference to `typeinfo for long*@CXXABI_1.3'\n",
      "/data02/hyzhang10/miniconda3/envs/xp-nlp/compiler_compat/ld: /usr/local/cuda-12.2/lib64/libcufile.so: undefined reference to `operator delete(void*)@GLIBCXX_3.4'\n",
      "/data02/hyzhang10/miniconda3/envs/xp-nlp/compiler_compat/ld: /usr/local/cuda-12.2/lib64/libcufile.so: undefined reference to `std::ostream::operator<<(int)@GLIBCXX_3.4'\n",
      "/data02/hyzhang10/miniconda3/envs/xp-nlp/compiler_compat/ld: /usr/local/cuda-12.2/lib64/libcufile.so: undefined reference to `std::string::_Rep::_S_empty_rep_storage@GLIBCXX_3.4'\n",
      "/data02/hyzhang10/miniconda3/envs/xp-nlp/compiler_compat/ld: /usr/local/cuda-12.2/lib64/libcufile.so: undefined reference to `std::string::_Rep::_M_destroy(std::allocator<char> const&)@GLIBCXX_3.4'\n",
      "/data02/hyzhang10/miniconda3/envs/xp-nlp/compiler_compat/ld: /usr/local/cuda-12.2/lib64/libcufile.so: undefined reference to `std::basic_iostream<wchar_t, std::char_traits<wchar_t> >::~basic_iostream()@GLIBCXX_3.4'\n",
      "/data02/hyzhang10/miniconda3/envs/xp-nlp/compiler_compat/ld: /usr/local/cuda-12.2/lib64/libcufile.so: undefined reference to `vtable for std::runtime_error@GLIBCXX_3.4'\n",
      "/data02/hyzhang10/miniconda3/envs/xp-nlp/compiler_compat/ld: /usr/local/cuda-12.2/lib64/libcufile.so: undefined reference to `vtable for std::basic_ofstream<char, std::char_traits<char> >@GLIBCXX_3.4'\n",
      "/data02/hyzhang10/miniconda3/envs/xp-nlp/compiler_compat/ld: /usr/local/cuda-12.2/lib64/libcufile.so: undefined reference to `std::_Rb_tree_insert_and_rebalance(bool, std::_Rb_tree_node_base*, std::_Rb_tree_node_base*, std::_Rb_tree_node_base&)@GLIBCXX_3.4'\n",
      "/data02/hyzhang10/miniconda3/envs/xp-nlp/compiler_compat/ld: /usr/local/cuda-12.2/lib64/libcufile.so: undefined reference to `std::basic_stringstream<char, std::char_traits<char>, std::allocator<char> >::~basic_stringstream()@GLIBCXX_3.4'\n",
      "/data02/hyzhang10/miniconda3/envs/xp-nlp/compiler_compat/ld: /usr/local/cuda-12.2/lib64/libcufile.so: undefined reference to `VTT for std::basic_stringstream<wchar_t, std::char_traits<wchar_t>, std::allocator<wchar_t> >@GLIBCXX_3.4'\n",
      "/data02/hyzhang10/miniconda3/envs/xp-nlp/compiler_compat/ld: /usr/local/cuda-12.2/lib64/libcufile.so: undefined reference to `std::ostream& std::ostream::_M_insert<long>(long)@GLIBCXX_3.4.9'\n",
      "/data02/hyzhang10/miniconda3/envs/xp-nlp/compiler_compat/ld: /usr/local/cuda-12.2/lib64/libcufile.so: undefined reference to `std::istream::get()@GLIBCXX_3.4'\n",
      "/data02/hyzhang10/miniconda3/envs/xp-nlp/compiler_compat/ld: /usr/local/cuda-12.2/lib64/libcufile.so: undefined reference to `typeinfo for unsigned long long@CXXABI_1.3'\n",
      "/data02/hyzhang10/miniconda3/envs/xp-nlp/compiler_compat/ld: /usr/local/cuda-12.2/lib64/libcufile.so: undefined reference to `std::basic_ostream<char, std::char_traits<char> >& std::operator<< <std::char_traits<char> >(std::basic_ostream<char, std::char_traits<char> >&, char const*)@GLIBCXX_3.4'\n",
      "/data02/hyzhang10/miniconda3/envs/xp-nlp/compiler_compat/ld: /usr/local/cuda-12.2/lib64/libcufile.so: undefined reference to `std::out_of_range::~out_of_range()@GLIBCXX_3.4'\n",
      "/data02/hyzhang10/miniconda3/envs/xp-nlp/compiler_compat/ld: /usr/local/cuda-12.2/lib64/libcufile.so: undefined reference to `std::length_error::~length_error()@GLIBCXX_3.4'\n",
      "/data02/hyzhang10/miniconda3/envs/xp-nlp/compiler_compat/ld: /usr/local/cuda-12.2/lib64/libcufile.so: undefined reference to `std::basic_ostream<char, std::char_traits<char> >& std::__ostream_insert<char, std::char_traits<char> >(std::basic_ostream<char, std::char_traits<char> >&, char const*, long)@GLIBCXX_3.4.9'\n",
      "/data02/hyzhang10/miniconda3/envs/xp-nlp/compiler_compat/ld: /usr/local/cuda-12.2/lib64/libcufile.so: undefined reference to `std::invalid_argument::~invalid_argument()@GLIBCXX_3.4'\n",
      "/data02/hyzhang10/miniconda3/envs/xp-nlp/compiler_compat/ld: /usr/local/cuda-12.2/lib64/libcufile.so: undefined reference to `std::basic_string<wchar_t, std::char_traits<wchar_t>, std::allocator<wchar_t> >::swap(std::basic_string<wchar_t, std::char_traits<wchar_t>, std::allocator<wchar_t> >&)@GLIBCXX_3.4'\n",
      "/data02/hyzhang10/miniconda3/envs/xp-nlp/compiler_compat/ld: /usr/local/cuda-12.2/lib64/libcufile.so: undefined reference to `std::cout@GLIBCXX_3.4'\n",
      "/data02/hyzhang10/miniconda3/envs/xp-nlp/compiler_compat/ld: /usr/local/cuda-12.2/lib64/libcufile.so: undefined reference to `std::ostream& std::ostream::_M_insert<unsigned long long>(unsigned long long)@GLIBCXX_3.4.9'\n",
      "/data02/hyzhang10/miniconda3/envs/xp-nlp/compiler_compat/ld: /usr/local/cuda-12.2/lib64/libcufile.so: undefined reference to `std::ostream& std::ostream::_M_insert<void const*>(void const*)@GLIBCXX_3.4.9'\n",
      "/data02/hyzhang10/miniconda3/envs/xp-nlp/compiler_compat/ld: /usr/local/cuda-12.2/lib64/libcufile.so: undefined reference to `vtable for std::underflow_error@GLIBCXX_3.4'\n",
      "/data02/hyzhang10/miniconda3/envs/xp-nlp/compiler_compat/ld: /usr/local/cuda-12.2/lib64/libcufile.so: undefined reference to `vtable for std::basic_streambuf<char, std::char_traits<char> >@GLIBCXX_3.4'\n",
      "/data02/hyzhang10/miniconda3/envs/xp-nlp/compiler_compat/ld: /usr/local/cuda-12.2/lib64/libcufile.so: undefined reference to `typeinfo for std::out_of_range@GLIBCXX_3.4'\n",
      "/data02/hyzhang10/miniconda3/envs/xp-nlp/compiler_compat/ld: /usr/local/cuda-12.2/lib64/libcufile.so: undefined reference to `__cxa_allocate_exception@CXXABI_1.3'\n",
      "/data02/hyzhang10/miniconda3/envs/xp-nlp/compiler_compat/ld: /usr/local/cuda-12.2/lib64/libcufile.so: undefined reference to `vtable for std::basic_ios<wchar_t, std::char_traits<wchar_t> >@GLIBCXX_3.4'\n",
      "/data02/hyzhang10/miniconda3/envs/xp-nlp/compiler_compat/ld: /usr/local/cuda-12.2/lib64/libcufile.so: undefined reference to `typeinfo for void const*@CXXABI_1.3'\n",
      "/data02/hyzhang10/miniconda3/envs/xp-nlp/compiler_compat/ld: /usr/local/cuda-12.2/lib64/libcufile.so: undefined reference to `std::basic_ios<wchar_t, std::char_traits<wchar_t> >::init(std::basic_streambuf<wchar_t, std::char_traits<wchar_t> >*)@GLIBCXX_3.4'\n",
      "/data02/hyzhang10/miniconda3/envs/xp-nlp/compiler_compat/ld: /usr/local/cuda-12.2/lib64/libcufile.so: undefined reference to `dlvsym'\n",
      "/data02/hyzhang10/miniconda3/envs/xp-nlp/compiler_compat/ld: /usr/local/cuda-12.2/lib64/libcufile.so: undefined reference to `std::string::reserve(unsigned long)@GLIBCXX_3.4'\n",
      "/data02/hyzhang10/miniconda3/envs/xp-nlp/compiler_compat/ld: /usr/local/cuda-12.2/lib64/libcufile.so: undefined reference to `__cxa_begin_catch@CXXABI_1.3'\n",
      "/data02/hyzhang10/miniconda3/envs/xp-nlp/compiler_compat/ld: /usr/local/cuda-12.2/lib64/libcufile.so: undefined reference to `typeinfo for long@CXXABI_1.3'\n",
      "/data02/hyzhang10/miniconda3/envs/xp-nlp/compiler_compat/ld: /usr/local/cuda-12.2/lib64/libcufile.so: undefined reference to `std::basic_string<wchar_t, std::char_traits<wchar_t>, std::allocator<wchar_t> >::_Rep::_S_empty_rep_storage@GLIBCXX_3.4'\n",
      "/data02/hyzhang10/miniconda3/envs/xp-nlp/compiler_compat/ld: /usr/local/cuda-12.2/lib64/libcufile.so: undefined reference to `shm_open'\n",
      "/data02/hyzhang10/miniconda3/envs/xp-nlp/compiler_compat/ld: /usr/local/cuda-12.2/lib64/libcufile.so: undefined reference to `std::string::_M_leak()@GLIBCXX_3.4'\n",
      "/data02/hyzhang10/miniconda3/envs/xp-nlp/compiler_compat/ld: /usr/local/cuda-12.2/lib64/libcufile.so: undefined reference to `std::basic_filebuf<char, std::char_traits<char> >::open(char const*, std::_Ios_Openmode)@GLIBCXX_3.4'\n",
      "/data02/hyzhang10/miniconda3/envs/xp-nlp/compiler_compat/ld: /usr/local/cuda-12.2/lib64/libcufile.so: undefined reference to `std::basic_stringbuf<wchar_t, std::char_traits<wchar_t>, std::allocator<wchar_t> >::_M_sync(wchar_t*, unsigned long, unsigned long)@GLIBCXX_3.4'\n",
      "/data02/hyzhang10/miniconda3/envs/xp-nlp/compiler_compat/ld: /usr/local/cuda-12.2/lib64/libcufile.so: undefined reference to `std::istream::getline(char*, long, char)@GLIBCXX_3.4'\n",
      "/data02/hyzhang10/miniconda3/envs/xp-nlp/compiler_compat/ld: /usr/local/cuda-12.2/lib64/libcufile.so: undefined reference to `std::basic_istream<char, std::char_traits<char> >& std::getline<char, std::char_traits<char>, std::allocator<char> >(std::basic_istream<char, std::char_traits<char> >&, std::basic_string<char, std::char_traits<char>, std::allocator<char> >&, char)@GLIBCXX_3.4'\n",
      "/data02/hyzhang10/miniconda3/envs/xp-nlp/compiler_compat/ld: /usr/local/cuda-12.2/lib64/libcufile.so: undefined reference to `vtable for std::basic_stringstream<wchar_t, std::char_traits<wchar_t>, std::allocator<wchar_t> >@GLIBCXX_3.4'\n",
      "/data02/hyzhang10/miniconda3/envs/xp-nlp/compiler_compat/ld: /usr/local/cuda-12.2/lib64/libcufile.so: undefined reference to `std::condition_variable::~condition_variable()@GLIBCXX_3.4.11'\n",
      "/data02/hyzhang10/miniconda3/envs/xp-nlp/compiler_compat/ld: /usr/local/cuda-12.2/lib64/libcufile.so: undefined reference to `vtable for std::basic_stringbuf<wchar_t, std::char_traits<wchar_t>, std::allocator<wchar_t> >@GLIBCXX_3.4'\n",
      "/data02/hyzhang10/miniconda3/envs/xp-nlp/compiler_compat/ld: /usr/local/cuda-12.2/lib64/libcufile.so: undefined reference to `std::string::insert(unsigned long, char const*, unsigned long)@GLIBCXX_3.4'\n",
      "/data02/hyzhang10/miniconda3/envs/xp-nlp/compiler_compat/ld: /usr/local/cuda-12.2/lib64/libcufile.so: undefined reference to `std::string::assign(char const*, unsigned long)@GLIBCXX_3.4'\n",
      "/data02/hyzhang10/miniconda3/envs/xp-nlp/compiler_compat/ld: /usr/local/cuda-12.2/lib64/libcufile.so: undefined reference to `typeinfo for unsigned char@CXXABI_1.3'\n",
      "/data02/hyzhang10/miniconda3/envs/xp-nlp/compiler_compat/ld: /usr/local/cuda-12.2/lib64/libcufile.so: undefined reference to `std::ios_base::ios_base()@GLIBCXX_3.4'\n",
      "/data02/hyzhang10/miniconda3/envs/xp-nlp/compiler_compat/ld: /usr/local/cuda-12.2/lib64/libcufile.so: undefined reference to `std::__throw_out_of_range(char const*)@GLIBCXX_3.4'\n",
      "/data02/hyzhang10/miniconda3/envs/xp-nlp/compiler_compat/ld: /usr/local/cuda-12.2/lib64/libcufile.so: undefined reference to `std::overflow_error::~overflow_error()@GLIBCXX_3.4'\n",
      "/data02/hyzhang10/miniconda3/envs/xp-nlp/compiler_compat/ld: /usr/local/cuda-12.2/lib64/libcufile.so: undefined reference to `std::__throw_length_error(char const*)@GLIBCXX_3.4'\n",
      "/data02/hyzhang10/miniconda3/envs/xp-nlp/compiler_compat/ld: /usr/local/cuda-12.2/lib64/libcufile.so: undefined reference to `std::__throw_system_error(int)@GLIBCXX_3.4.11'\n",
      "/data02/hyzhang10/miniconda3/envs/xp-nlp/compiler_compat/ld: /usr/local/cuda-12.2/lib64/libcufile.so: undefined reference to `std::basic_ofstream<char, std::char_traits<char> >::close()@GLIBCXX_3.4'\n",
      "/data02/hyzhang10/miniconda3/envs/xp-nlp/compiler_compat/ld: /usr/local/cuda-12.2/lib64/libcufile.so: undefined reference to `std::ostream& std::ostream::_M_insert<double>(double)@GLIBCXX_3.4.9'\n",
      "/data02/hyzhang10/miniconda3/envs/xp-nlp/compiler_compat/ld: /usr/local/cuda-12.2/lib64/libcufile.so: undefined reference to `std::basic_streambuf<char, std::char_traits<char> >::operator=(std::basic_streambuf<char, std::char_traits<char> > const&)@GLIBCXX_3.4'\n",
      "/data02/hyzhang10/miniconda3/envs/xp-nlp/compiler_compat/ld: /usr/local/cuda-12.2/lib64/libcufile.so: undefined reference to `typeinfo for long long@CXXABI_1.3'\n",
      "/data02/hyzhang10/miniconda3/envs/xp-nlp/compiler_compat/ld: /usr/local/cuda-12.2/lib64/libcufile.so: undefined reference to `std::basic_string<char, std::char_traits<char>, std::allocator<char> >::basic_string(char const*, unsigned long, std::allocator<char> const&)@GLIBCXX_3.4'\n",
      "/data02/hyzhang10/miniconda3/envs/xp-nlp/compiler_compat/ld: /usr/local/cuda-12.2/lib64/libcufile.so: undefined reference to `std::basic_ifstream<char, std::char_traits<char> >::close()@GLIBCXX_3.4'\n",
      "/data02/hyzhang10/miniconda3/envs/xp-nlp/compiler_compat/ld: /usr/local/cuda-12.2/lib64/libcufile.so: undefined reference to `__cxa_guard_release@CXXABI_1.3'\n",
      "/data02/hyzhang10/miniconda3/envs/xp-nlp/compiler_compat/ld: /usr/local/cuda-12.2/lib64/libcufile.so: undefined reference to `__cxa_throw@CXXABI_1.3'\n",
      "/data02/hyzhang10/miniconda3/envs/xp-nlp/compiler_compat/ld: /usr/local/cuda-12.2/lib64/libcufile.so: undefined reference to `std::underflow_error::~underflow_error()@GLIBCXX_3.4'\n",
      "/data02/hyzhang10/miniconda3/envs/xp-nlp/compiler_compat/ld: /usr/local/cuda-12.2/lib64/libcufile.so: undefined reference to `std::_Rb_tree_decrement(std::_Rb_tree_node_base*)@GLIBCXX_3.4'\n",
      "/data02/hyzhang10/miniconda3/envs/xp-nlp/compiler_compat/ld: /usr/local/cuda-12.2/lib64/libcufile.so: undefined reference to `vtable for std::length_error@GLIBCXX_3.4'\n",
      "/data02/hyzhang10/miniconda3/envs/xp-nlp/compiler_compat/ld: /usr/local/cuda-12.2/lib64/libcufile.so: undefined reference to `std::basic_filebuf<char, std::char_traits<char> >::~basic_filebuf()@GLIBCXX_3.4'\n",
      "collect2: error: ld returned 1 exit status\n"
     ]
    },
    {
     "data": {
      "text/html": [
       "\n",
       "    <div>\n",
       "      \n",
       "      <progress value='18' max='18' style='width:300px; height:20px; vertical-align: middle;'></progress>\n",
       "      [18/18 01:48, Epoch 2/3]\n",
       "    </div>\n",
       "    <table border=\"1\" class=\"dataframe\">\n",
       "  <thead>\n",
       " <tr style=\"text-align: left;\">\n",
       "      <th>Step</th>\n",
       "      <th>Training Loss</th>\n",
       "    </tr>\n",
       "  </thead>\n",
       "  <tbody>\n",
       "    <tr>\n",
       "      <td>1</td>\n",
       "      <td>1.463100</td>\n",
       "    </tr>\n",
       "    <tr>\n",
       "      <td>2</td>\n",
       "      <td>1.510700</td>\n",
       "    </tr>\n",
       "    <tr>\n",
       "      <td>3</td>\n",
       "      <td>1.220400</td>\n",
       "    </tr>\n",
       "    <tr>\n",
       "      <td>4</td>\n",
       "      <td>1.248900</td>\n",
       "    </tr>\n",
       "    <tr>\n",
       "      <td>5</td>\n",
       "      <td>1.209200</td>\n",
       "    </tr>\n",
       "    <tr>\n",
       "      <td>6</td>\n",
       "      <td>1.126600</td>\n",
       "    </tr>\n",
       "    <tr>\n",
       "      <td>7</td>\n",
       "      <td>1.891500</td>\n",
       "    </tr>\n",
       "    <tr>\n",
       "      <td>8</td>\n",
       "      <td>0.871800</td>\n",
       "    </tr>\n",
       "    <tr>\n",
       "      <td>9</td>\n",
       "      <td>0.741400</td>\n",
       "    </tr>\n",
       "    <tr>\n",
       "      <td>10</td>\n",
       "      <td>0.794900</td>\n",
       "    </tr>\n",
       "    <tr>\n",
       "      <td>11</td>\n",
       "      <td>0.726100</td>\n",
       "    </tr>\n",
       "    <tr>\n",
       "      <td>12</td>\n",
       "      <td>0.483500</td>\n",
       "    </tr>\n",
       "    <tr>\n",
       "      <td>13</td>\n",
       "      <td>1.243100</td>\n",
       "    </tr>\n",
       "    <tr>\n",
       "      <td>14</td>\n",
       "      <td>0.824500</td>\n",
       "    </tr>\n",
       "    <tr>\n",
       "      <td>15</td>\n",
       "      <td>0.715900</td>\n",
       "    </tr>\n",
       "    <tr>\n",
       "      <td>16</td>\n",
       "      <td>0.693800</td>\n",
       "    </tr>\n",
       "    <tr>\n",
       "      <td>17</td>\n",
       "      <td>0.619200</td>\n",
       "    </tr>\n",
       "    <tr>\n",
       "      <td>18</td>\n",
       "      <td>0.471200</td>\n",
       "    </tr>\n",
       "  </tbody>\n",
       "</table><p>"
      ],
      "text/plain": [
       "<IPython.core.display.HTML object>"
      ]
     },
     "metadata": {},
     "output_type": "display_data"
    },
    {
     "data": {
      "text/plain": [
       "TrainOutput(global_step=18, training_loss=0.9919749034775628, metrics={'train_runtime': 110.6316, 'train_samples_per_second': 2.712, 'train_steps_per_second': 0.163, 'total_flos': 2013363317293056.0, 'train_loss': 0.9919749034775628, 'epoch': 2.88})"
      ]
     },
     "execution_count": 13,
     "metadata": {},
     "output_type": "execute_result"
    }
   ],
   "source": [
    "training_args = TrainingArguments(output_dir='./output',\n",
    "                                  num_train_epochs=3,\n",
    "                                  per_device_train_batch_size=2,\n",
    "                                  per_device_eval_batch_size=8,\n",
    "                                  gradient_accumulation_steps=8,\n",
    "                                  evaluation_strategy='no',\n",
    "                                  save_strategy='steps',\n",
    "                                  save_steps=2000,\n",
    "                                  save_total_limit=1,\n",
    "                                  learning_rate=2e-5,\n",
    "                                  weight_decay=0.,\n",
    "                                  warmup_ratio=0.03,\n",
    "                                  lr_scheduler_type='cosine',\n",
    "                                  logging_steps=1,\n",
    "                                  report_to=[],\n",
    "                                  bf16=True\n",
    "                                  )\n",
    "trainer = Trainer(model=model, \n",
    "                  tokenizer=tokenizer, \n",
    "                  args=training_args, \n",
    "                  train_dataset=train_dataset,\n",
    "                  eval_dataset=eval_dataset,\n",
    "                  data_collator=data_collator,\n",
    "                  )\n",
    "train_output = trainer.train()"
   ]
  },
  {
   "cell_type": "code",
   "execution_count": null,
   "metadata": {},
   "outputs": [],
   "source": [
    "log_history = trainer.state.log_history\n",
    "losses = [entry[\"loss\"] for entry in log_history if \"loss\" in entry]"
   ]
  },
  {
   "cell_type": "code",
   "execution_count": null,
   "metadata": {},
   "outputs": [],
   "source": [
    "plt.plot(losses)"
   ]
  }
 ],
 "metadata": {
  "kernelspec": {
   "display_name": "xp-nlp",
   "language": "python",
   "name": "python3"
  },
  "language_info": {
   "codemirror_mode": {
    "name": "ipython",
    "version": 3
   },
   "file_extension": ".py",
   "mimetype": "text/x-python",
   "name": "python",
   "nbconvert_exporter": "python",
   "pygments_lexer": "ipython3",
   "version": "3.12.4"
  }
 },
 "nbformat": 4,
 "nbformat_minor": 2
}
