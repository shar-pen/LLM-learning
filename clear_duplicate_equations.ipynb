{
 "cells": [
  {
   "cell_type": "code",
   "execution_count": null,
   "metadata": {},
   "outputs": [
    {
     "name": "stdout",
     "output_type": "stream",
     "text": [
      "修正完成，结果保存在 file_fixed.md\n"
     ]
    }
   ],
   "source": [
    "import re\n",
    "\n",
    "# 读取 Markdown 文件\n",
    "with open(r\"C:\\Users\\29492\\Downloads\\DPO.md\", \"r\", encoding=\"utf-8\") as f:\n",
    "    content = f.read()\n",
    "\n",
    "# 处理公式格式\n",
    "def fix_formula(match):\n",
    "    formula = match.group(1)\n",
    "    return f\"${formula}$\"\n",
    "\n",
    "fixed_content = re.sub(r\"\\$(.*?)\\$\\1\", fix_formula, content)\n",
    "\n",
    "# 写回 Markdown 文件\n",
    "with open(\"file_fixed.md\", \"w\", encoding=\"utf-8\") as f:\n",
    "    f.write(fixed_content)\n",
    "\n",
    "print(\"修正完成，结果保存在 file_fixed.md\")\n"
   ]
  }
 ],
 "metadata": {
  "kernelspec": {
   "display_name": "nlp",
   "language": "python",
   "name": "python3"
  },
  "language_info": {
   "codemirror_mode": {
    "name": "ipython",
    "version": 3
   },
   "file_extension": ".py",
   "mimetype": "text/x-python",
   "name": "python",
   "nbconvert_exporter": "python",
   "pygments_lexer": "ipython3",
   "version": "3.11.11"
  }
 },
 "nbformat": 4,
 "nbformat_minor": 2
}
