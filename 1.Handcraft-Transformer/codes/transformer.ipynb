{
 "cells": [
  {
   "cell_type": "markdown",
   "metadata": {},
   "source": [
    "# 模型架构\n",
    "\n",
    "大部分序列到序列（seq2seq）模型都使用编码器-解码器结构 [(引用)](https://arxiv.org/abs/1409.0473)。编码器把一个输入序列$(x_{1},...x_{n})$映射到一个连续的表示$z=(z_{1},...z_{n})$中。解码器对z中的每个元素，生成输出序列$(y_{1},...y_{m})$。解码器一个时间步生成一个输出。在每一步中，模型都是自回归的[(引用)](https://arxiv.org/abs/1308.0850)，在生成下一个结果时，会将先前生成的结果加入输入序列来一起预测。现在我们先构建一个EncoderDecoder类来搭建一个seq2seq架构："
   ]
  },
  {
   "cell_type": "code",
   "execution_count": 12,
   "metadata": {},
   "outputs": [],
   "source": [
    "import torch\n",
    "import torch.nn as nn\n",
    "import math\n",
    "import torch.nn.functional as F\n",
    "\n",
    "d_model = 512"
   ]
  },
  {
   "cell_type": "markdown",
   "metadata": {},
   "source": [
    "## layers"
   ]
  },
  {
   "cell_type": "code",
   "execution_count": 13,
   "metadata": {},
   "outputs": [
    {
     "name": "stdout",
     "output_type": "stream",
     "text": [
      "torch.Size([10, 512]) torch.Size([10, 512])\n"
     ]
    }
   ],
   "source": [
    "class LayerNorm(nn.Module):\n",
    "    \n",
    "    def __init__(self, d_model, eps=1e-6) -> None:\n",
    "        super(LayerNorm, self).__init__()\n",
    "        \n",
    "        self.a = nn.Parameter(torch.ones((d_model)))\n",
    "        self.b = nn.Parameter(torch.zeros((d_model)))\n",
    "        self.eps = eps\n",
    "        \n",
    "    def forward(self, input:torch.tensor):\n",
    "        mean = torch.mean(input, dim=-1, keepdim=True)\n",
    "        std = torch.std(input, dim=-1, keepdim=True)\n",
    "        output = (input - mean) / (std + self.eps)\n",
    "        output = self.a * output + self.b\n",
    "        return output\n",
    "        \n",
    "\n",
    "input = torch.ones((10,d_model))\n",
    "net = LayerNorm(d_model)\n",
    "output = net(input)\n",
    "print(input.shape, output.shape)"
   ]
  },
  {
   "cell_type": "code",
   "execution_count": 14,
   "metadata": {},
   "outputs": [],
   "source": [
    "class FeedForwardNet(nn.Module):\n",
    "    \n",
    "    \"\"\"\n",
    "    This is position-wise feed forward, because linear only works on 1D.\n",
    "    \"\"\"\n",
    "    def __init__(self, d_model, d_mid, drop_prob=0.1) -> None:\n",
    "        super(FeedForwardNet, self).__init__()\n",
    "        \n",
    "        # just fc layers of depth of 2\n",
    "        self.net = nn.Sequential(\n",
    "            nn.Linear(d_model, d_mid),\n",
    "            nn.ReLU(),\n",
    "            nn.Dropout(drop_prob),\n",
    "            nn.Linear(d_mid, d_model)\n",
    "        )\n",
    "        \n",
    "    def forward(self, input):\n",
    "        return self.net(input)"
   ]
  },
  {
   "cell_type": "code",
   "execution_count": 15,
   "metadata": {},
   "outputs": [
    {
     "name": "stdout",
     "output_type": "stream",
     "text": [
      "torch.Size([10, 30, 128])\n",
      "torch.Size([10, 30, 128])\n"
     ]
    }
   ],
   "source": [
    "class MultiHeadAttention(nn.Module):\n",
    "    \n",
    "    def __init__(self, \n",
    "                 d_model, \n",
    "                 n_head, \n",
    "                 prob_dropout\n",
    "                 ) -> None:\n",
    "        super(MultiHeadAttention, self).__init__()\n",
    "        \n",
    "        assert d_model % n_head == 0\n",
    "        self.n_head = n_head\n",
    "        self.d_head = d_model // n_head\n",
    "        \n",
    "        self.W_Q = nn.Linear(d_model, d_model)\n",
    "        self.W_K = nn.Linear(d_model, d_model)\n",
    "        self.W_V = nn.Linear(d_model, d_model)\n",
    "        self.dropout = nn.Dropout(prob_dropout)\n",
    "        self.W_O = nn.Linear(d_model, d_model)\n",
    "        \n",
    "    def forward(self, \n",
    "                query:torch.tensor, \n",
    "                key:torch.tensor, \n",
    "                value:torch.tensor, \n",
    "                mask:torch.tensor=None\n",
    "                ):\n",
    "        \n",
    "        # qkv (bs, sl, dm)\n",
    "        # mask (bs, sl, sl)\n",
    "        assert query.shape == key.shape == value.shape\n",
    "        bs, sl, dm = query.shape\n",
    "        \n",
    "        # (bs, sl, dm)\n",
    "        Q = self.W_Q(query)\n",
    "        K = self.W_K(key)\n",
    "        V = self.W_V(value)\n",
    "        \n",
    "        # (bs, sl, nh, dh) => (bs, nh, sl, dh)\n",
    "        Q_heads = torch.reshape(Q, (bs, sl, self.n_head, self.d_head)).transpose(1,2)\n",
    "        K_heads = torch.reshape(K, (bs, sl, self.n_head, self.d_head)).transpose(1,2)\n",
    "        V_heads = torch.reshape(V, (bs, sl, self.n_head, self.d_head)).transpose(1,2)\n",
    "        \n",
    "        # (bs, nh, sl, sl)\n",
    "        attention_score = torch.matmul(Q_heads, K_heads.transpose(-1,-2))/math.sqrt(self.d_head)\n",
    "        \n",
    "        if mask is not None:\n",
    "            attention_score = torch.masked_fill(attention_score, mask==0, -1e10)\n",
    "        \n",
    "        attention_weight = torch.softmax(attention_score, dim=-1)\n",
    "        attention_weight = self.dropout(attention_weight)\n",
    "        \n",
    "        # (bs, nh, sl, dh)\n",
    "        weighted_value = torch.matmul(attention_weight, V_heads)\n",
    "        \n",
    "        # (bs, sl, nh, dh)\n",
    "        weighted_value = weighted_value.transpose(1,2)\n",
    "        \n",
    "        # (bs, sl, dm)\n",
    "        weighted_value = torch.reshape(weighted_value, (bs, sl, -1))\n",
    "        \n",
    "        output = self.W_O(weighted_value)\n",
    "        \n",
    "        return output\n",
    "        \n",
    "    \n",
    "mha = MultiHeadAttention(128, 8, 0.1)   \n",
    "input = torch.randn((10, 30, 128)) \n",
    "print(input.shape)\n",
    "output = mha(input, input, input)\n",
    "print(output.shape)\n"
   ]
  },
  {
   "cell_type": "code",
   "execution_count": 16,
   "metadata": {},
   "outputs": [],
   "source": [
    "class Gnerator(nn.Module):\n",
    "    \n",
    "    def __init__(self, d_model, vocab_size) -> None:\n",
    "        super(Gnerator, self).__init__()\n",
    "        \n",
    "        self.proj = nn.Linear(d_model, vocab_size)\n",
    "        \n",
    "    def forward(self, input):\n",
    "        \n",
    "        return self.proj(input)"
   ]
  },
  {
   "cell_type": "markdown",
   "metadata": {},
   "source": [
    "## blocks"
   ]
  },
  {
   "cell_type": "code",
   "execution_count": 17,
   "metadata": {},
   "outputs": [],
   "source": [
    "class EncoderBlock(nn.Module):\n",
    "    \n",
    "    def __init__(self, d_model, n_heads, prob_dropout, d_mid) -> None:\n",
    "        super(EncoderBlock, self).__init__()\n",
    "        \n",
    "        self.attention = MultiHeadAttention(d_model, n_heads, prob_dropout)\n",
    "        self.norm1 = LayerNorm(d_model)\n",
    "        \n",
    "        self.ffn = FeedForwardNet(d_model, d_mid, prob_dropout)\n",
    "        self.norm2 = LayerNorm(d_model)\n",
    "        \n",
    "    def forward(self, input, mask):\n",
    "        \n",
    "        _input = input\n",
    "        input = self.attention(input, input, input, mask)\n",
    "        input = self.norm1(input + _input)\n",
    "        \n",
    "        \n",
    "        _input = input\n",
    "        input = self.ffn(input)\n",
    "        input = self.norm1(input + _input)\n",
    "        \n",
    "        return input\n",
    "    \n",
    "class DecoderBlock(nn.Module):\n",
    "    \n",
    "    def __init__(self, d_model, n_heads, prob_dropout, d_mid) -> None:\n",
    "        super(DecoderBlock, self).__init__()\n",
    "        \n",
    "        self.self_attention = MultiHeadAttention(d_model, n_heads, prob_dropout)\n",
    "        self.norm1 = LayerNorm(d_model)\n",
    "        \n",
    "        self.cross_attention = MultiHeadAttention(d_model, n_heads, prob_dropout)\n",
    "        self.norm2 = LayerNorm(d_model)\n",
    "        \n",
    "        self.ffn = FeedForwardNet(d_model, d_mid, prob_dropout)\n",
    "        self.norm3 = LayerNorm(d_model)\n",
    "        \n",
    "    def forward(self, dec, enc, src_mask, trg_mask):\n",
    "        \n",
    "        _dec = dec\n",
    "        dec = self.self_attention(query=dec, key=dec, value=dec, mask=trg_mask)\n",
    "        dec = self.norm1(dec + _dec)\n",
    "        \n",
    "        \n",
    "        _dec = dec\n",
    "        dec = self.cross_attention(query=dec, key=enc, value=enc, mask=src_mask)\n",
    "        dec = self.norm2(dec + _dec)\n",
    "        \n",
    "        _dec = dec\n",
    "        dec = self.ffn(dec)\n",
    "        dec = self.norm3(dec + _dec)\n",
    "        \n",
    "        return dec\n",
    "        "
   ]
  },
  {
   "cell_type": "markdown",
   "metadata": {},
   "source": [
    "## embedding"
   ]
  },
  {
   "cell_type": "code",
   "execution_count": 18,
   "metadata": {},
   "outputs": [],
   "source": [
    "class TokenEmbedding(nn.Embedding):\n",
    "    \"\"\"\n",
    "    class for token embedding without positional information. It is basically like normal embedding layer.\n",
    "    :param vocab_size: size of vocabulary\n",
    "    :param d_model: dimensions of model\n",
    "    \"\"\"\n",
    "    def __init__(self, vocab_size, d_model, padding_idx) -> None:\n",
    "        super().__init__(vocab_size, d_model, padding_idx)\n"
   ]
  },
  {
   "cell_type": "code",
   "execution_count": 19,
   "metadata": {},
   "outputs": [
    {
     "name": "stdout",
     "output_type": "stream",
     "text": [
      "torch.Size([2, 30]) torch.Size([30, 512])\n"
     ]
    }
   ],
   "source": [
    "class PositionalEmbedding(nn.Module):\n",
    "    \n",
    "    def __init__(self, d_model, max_len, device) -> None:\n",
    "        # This class takes device due to it being just a matrix, rather than torch.nn layers\n",
    "        super(PositionalEmbedding, self).__init__()\n",
    "        \n",
    "        self.encoding = torch.zeros(max_len, d_model, device=device)\n",
    "        self.encoding.requires_grad = False  # we don't need to compute gradient\n",
    "\n",
    "        pos = torch.arange(0, max_len, device=device)\n",
    "        pos = pos.float().unsqueeze(dim=1)\n",
    "        # 1D => 2D unsqueeze to represent word's position\n",
    "\n",
    "        _2i = torch.arange(0, d_model, step=2, device=device).float()\n",
    "        # 'i' means index of d_model (e.g. embedding size = 50, 'i' = [0,50])\n",
    "        # \"step=2\" means 'i' multiplied with two (same with 2 * i)\n",
    "\n",
    "        self.encoding[:, 0::2] = torch.sin(pos / (10000 ** (_2i / d_model)))\n",
    "        self.encoding[:, 1::2] = torch.cos(pos / (10000 ** (_2i / d_model)))\n",
    "        \n",
    "    def forward(self, input):\n",
    "        # self.encoding\n",
    "        # [max_len = 512, d_model = 512]\n",
    "\n",
    "        batch_size, seq_len = input.size()\n",
    "        # [batch_size = 128, seq_len = 30]\n",
    "\n",
    "        return self.encoding[:seq_len, :]\n",
    "        # [seq_len = 30, d_model = 512]\n",
    "        # it will add with tok_emb : [128, 30, 512]\n",
    "        \n",
    "x = torch.ones((2,30))\n",
    "net = PositionalEmbedding(d_model, 256, 'cpu')\n",
    "y = net(x)\n",
    "print(x.shape, y.shape)"
   ]
  },
  {
   "cell_type": "code",
   "execution_count": 20,
   "metadata": {},
   "outputs": [
    {
     "name": "stdout",
     "output_type": "stream",
     "text": [
      "torch.Size([2, 30]) torch.Size([2, 30, 512])\n"
     ]
    }
   ],
   "source": [
    "class TransformerEmbedding(nn.Module):\n",
    "    \n",
    "    def __init__(self, vocab_size, padding_idx, d_model, max_len, device) -> None:\n",
    "        \n",
    "        super(TransformerEmbedding, self).__init__()\n",
    "        self.tok_emb = TokenEmbedding(vocab_size, d_model, padding_idx)\n",
    "        self.pos_emb = PositionalEmbedding(d_model, max_len, device)\n",
    "        \n",
    "    def forward(self, input):\n",
    "        \n",
    "        return self.tok_emb(input) + self.pos_emb(input)\n",
    "    \n",
    "\n",
    "x = torch.ones((2,30), dtype=int)\n",
    "net = TransformerEmbedding(500, 0, d_model, 256, 'cpu')\n",
    "y = net(x)\n",
    "print(x.shape, y.shape)"
   ]
  },
  {
   "cell_type": "markdown",
   "metadata": {},
   "source": [
    "## transformer"
   ]
  },
  {
   "cell_type": "code",
   "execution_count": 21,
   "metadata": {},
   "outputs": [],
   "source": [
    "class Transformer(nn.Module):\n",
    "    \n",
    "    def __init__(self, src_vocab_size, src_padding_idx, trg_vocab_size, trg_padding_idx, d_model, n_heads, prob_dropout, d_mid, max_len, device, block_num) -> None:\n",
    "        super(Transformer, self).__init__()\n",
    "        \n",
    "        self.src_padding_idx = src_padding_idx\n",
    "        self.trg_padding_idx = trg_padding_idx\n",
    "        self.device = device\n",
    "        self.n_heads = n_heads\n",
    "        \n",
    "        self.src_emb = TransformerEmbedding(src_vocab_size, src_padding_idx, d_model, max_len, device)\n",
    "        self.trg_emb = TransformerEmbedding(trg_vocab_size, trg_padding_idx, d_model, max_len, device)\n",
    "        \n",
    "        self.enc_blocks = EncoderBlock(d_model, n_heads, prob_dropout, d_mid)\n",
    "        \n",
    "        self.dec_blocks = DecoderBlock(d_model, n_heads, prob_dropout, d_mid)\n",
    "        \n",
    "        self.gen = Gnerator(d_model, trg_vocab_size)\n",
    "        \n",
    "    def forward(self, src, trg):\n",
    "        \n",
    "        src_mask = self.make_src_mask(src)\n",
    "        trg_mask = self.make_trg_mask(trg)\n",
    "        \n",
    "        src = self.src_emb(src)\n",
    "        trg = self.trg_emb(trg)\n",
    "        src = self.enc_blocks(src, src_mask)\n",
    "        dec = self.dec_blocks(trg, src, src_mask, trg_mask)\n",
    "        output = self.gen(dec)\n",
    "        return output\n",
    "    \n",
    "    \n",
    "    def make_src_mask(self, src):\n",
    "        src_mask = (src != self.src_padding_idx).unsqueeze(1).unsqueeze(1).type(torch.ByteTensor)\n",
    "        src_mask = src_mask.repeat(1, self.n_heads,src_mask.shape[-1],1)\n",
    "        return src_mask\n",
    "        \n",
    "    \n",
    "    def make_trg_mask(self, trg):\n",
    "        trg_pad_mask = (trg != self.trg_padding_idx).unsqueeze(1).unsqueeze(3)\n",
    "        trg_len = trg.shape[1]\n",
    "        trg_sub_mask = torch.tril(torch.ones(trg_len, trg_len)).type(torch.ByteTensor).to(self.device)\n",
    "        trg_mask = trg_pad_mask & trg_sub_mask\n",
    "        trg_mask = trg_mask.repeat(1,self.n_heads, 1, 1)\n",
    "        return trg_mask\n",
    "    \n",
    "\n",
    "model = Transformer(500, 0, 500, 0, 512, 8, 0.1, 1024, 30, 'cpu', 2)\n",
    "\n",
    "x = torch.tensor([[1,2,3,0], [1,2,0,0]])\n",
    "y = torch.tensor([[1,2,3,4], [1,2,4,0]])\n",
    "y_ = model(x, y)"
   ]
  },
  {
   "cell_type": "code",
   "execution_count": 22,
   "metadata": {},
   "outputs": [
    {
     "data": {
      "text/plain": [
       "torch.Size([2, 4, 500])"
      ]
     },
     "execution_count": 22,
     "metadata": {},
     "output_type": "execute_result"
    }
   ],
   "source": [
    "y_.shape"
   ]
  }
 ],
 "metadata": {
  "kernelspec": {
   "display_name": "nlp",
   "language": "python",
   "name": "python3"
  },
  "language_info": {
   "codemirror_mode": {
    "name": "ipython",
    "version": 3
   },
   "file_extension": ".py",
   "mimetype": "text/x-python",
   "name": "python",
   "nbconvert_exporter": "python",
   "pygments_lexer": "ipython3",
   "version": "3.11.10"
  }
 },
 "nbformat": 4,
 "nbformat_minor": 2
}
